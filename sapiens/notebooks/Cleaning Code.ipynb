{
 "cells": [
  {
   "cell_type": "code",
   "execution_count": 8,
   "metadata": {},
   "outputs": [],
   "source": [
    "import pandas as pd\n",
    "import matplotlib.pyplot as plt\n",
    "import numpy as np\n",
    "\n",
    "plt.rc('font', **{'size': 20})"
   ]
  },
  {
   "cell_type": "code",
   "execution_count": 6,
   "metadata": {},
   "outputs": [],
   "source": [
    "def add_day_columns(df, timestamp_col, participant_df):\n",
    "    return add_rel_day(add_start_day(add_day(df, timestamp_col), participant_df))\n",
    "\n",
    "def add_day(df, timestamp_col):\n",
    "    df = df.copy()\n",
    "    df[\"Day\"] = (df[timestamp_col]/(60*60*24)).apply(np.floor)\n",
    "    return df\n",
    "\n",
    "def add_start_day(df, participant_df):\n",
    "    participant_df = participant_df.copy()\n",
    "    participant_df[\"StartDay\"] = (participant_df[\"DataStartStamp\"]/(60*60*24)).apply(np.floor)\n",
    "    return pd.merge(df, participant_df[['ParticipantId',\"StartDay\"]])\n",
    "\n",
    "def add_rel_day(df):\n",
    "    df = df.copy()\n",
    "    df[\"RelDay\"] = df[\"Day\"]-df[\"StartDay\"]\n",
    "    return df\n",
    "\n",
    "def scale(df, group_col, scale_col, scaler, postfix):\n",
    "    for gid in set(df[group_col]):\n",
    "        df.loc[df[group_col]==gid,[scale_col+postfix]] = scaler.fit_transform(df.loc[df[group_col]==gid,[scale_col]])\n",
    "\n",
    "def get_trimmed_pids(df):\n",
    "    df = df.copy()\n",
    "    df = df[~df[\"Phone ER Interest\"].isna()]\n",
    "    df = df.groupby([\"ParticipantId\",\"RelDay\"]).size().reset_index(drop=False)\n",
    "    df = df.groupby(['ParticipantId']).size().reset_index(drop=False).rename(columns={0:\"Count\"})\n",
    "    return df.loc[df.Count < 4,'ParticipantId'].tolist()\n",
    "\n",
    "def sample_and_mean(x):\n",
    "    return lambda g: g.mean() if g.shape[0] < x else g.sample(x).mean()\n",
    "\n",
    "def largest_and_mean(x):\n",
    "    return lambda g: g.nlargest(x).mean()\n",
    "\n",
    "def smallest_and_mean(x):\n",
    "    return lambda g: g.nsmallest(x).mean()"
   ]
  },
  {
   "cell_type": "code",
   "execution_count": null,
   "metadata": {},
   "outputs": [
    {
     "data": {
      "text/plain": [
       "(3650, 22)"
      ]
     },
     "execution_count": 9,
     "metadata": {},
     "output_type": "execute_result"
    }
   ],
   "source": [
    "emotions_df = pd.read_csv('../data/Emotions.csv')\n",
    "participant_df = pd.read_csv('../data/Participants.csv')\n",
    "\n",
    "emotions_df = emotions_df[emotions_df[\"WatchDataQuality\"] == \"Good\"]\n",
    "\n",
    "emotions_df[\"ER Interest\"] = pd.to_numeric(emotions_df[\"ER Interest\"], errors='coerce')\n",
    "emotions_df[\"Phone ER Interest\"] = pd.to_numeric(emotions_df[\"Phone ER Interest\"], errors='coerce')\n",
    "emotions_df[\"Response Time (min)\"] = (emotions_df[\"SubmissionTimestamp\"] - emotions_df[\"DeliveredTimestamp\"])/60\n",
    "\n",
    "emotions_df = add_day_columns(emotions_df, \"OpenedTimestamp\", participant_df)\n",
    "\n",
    "to_trim = get_trimmed_pids(emotions_df)\n",
    "\n",
    "emotions_df = emotions_df[~emotions_df[\"ParticipantId\"].isin(to_trim)]\n",
    "emotions_df = emotions_df[emotions_df[\"RelDay\"] < 11]\n",
    "\n",
    "emotions_df.shape"
   ]
  },
  {
   "cell_type": "markdown",
   "metadata": {},
   "source": [
    "# Moderate Turnover In All 1s\n",
    "\n",
    "The number of participants who report all 1 is about half as big as the total number of participants who report all 1. This suggests that half of the all 1 reporters change each day."
   ]
  },
  {
   "cell_type": "code",
   "execution_count": 10,
   "metadata": {},
   "outputs": [
    {
     "data": {
      "image/png": "[encoded data removed]",
      "text/plain": [
       "<Figure size 640x480 with 1 Axes>"
      ]
     },
     "metadata": {},
     "output_type": "display_data"
    }
   ],
   "source": [
    "def local():\n",
    "    df = emotions_df.copy()\n",
    "    df = df[df[\"State Anxiety\"]!= 1]\n",
    "    \n",
    "    counts1 = df.groupby(\"ParticipantId\")[\"RelDay\"].max().value_counts()\n",
    "    counts2 = df.drop_duplicates([\"RelDay\",\"ParticipantId\"])[\"RelDay\"].value_counts()\n",
    "    X  = [7,8,9,10]\n",
    "    Y1 = [counts1[x-1] for x in X]\n",
    "    Y2 = [65-counts2[x] for x in X]\n",
    "    \n",
    "    plt.bar(X, Y2, width=.5, label=\"Missing only this day\")\n",
    "    plt.bar(X, np.cumsum(Y1), width=.5, label=\"Missing this day on\")\n",
    "    #plt.bar([6.25, 8.25, 10.25, 12.25], Y2, width=.5, label=\"Missing on this day\")\n",
    "    plt.yticks([1,6,12,27,65])\n",
    "    plt.legend()\n",
    "    plt.ylabel(\"Count\")\n",
    "    plt.xlabel(\"Final Day\")\n",
    "\n",
    "    return \n",
    "local()"
   ]
  },
  {
   "cell_type": "code",
   "execution_count": 11,
   "metadata": {},
   "outputs": [
    {
     "data": {
      "text/html": [
       "<div>\n",
       "<style scoped>\n",
       "    .dataframe tbody tr th:only-of-type {\n",
       "        vertical-align: middle;\n",
       "    }\n",
       "\n",
       "    .dataframe tbody tr th {\n",
       "        vertical-align: top;\n",
       "    }\n",
       "\n",
       "    .dataframe thead th {\n",
       "        text-align: right;\n",
       "    }\n",
       "</style>\n",
       "<table border=\"1\" class=\"dataframe\">\n",
       "  <thead>\n",
       "    <tr style=\"text-align: right;\">\n",
       "      <th></th>\n",
       "      <th>ParticipantId</th>\n",
       "      <th>Last Day With Anxiety &gt; 1</th>\n",
       "    </tr>\n",
       "  </thead>\n",
       "  <tbody>\n",
       "    <tr>\n",
       "      <th>8</th>\n",
       "      <td>423</td>\n",
       "      <td>8.0</td>\n",
       "    </tr>\n",
       "    <tr>\n",
       "      <th>11</th>\n",
       "      <td>430</td>\n",
       "      <td>7.0</td>\n",
       "    </tr>\n",
       "    <tr>\n",
       "      <th>14</th>\n",
       "      <td>433</td>\n",
       "      <td>8.0</td>\n",
       "    </tr>\n",
       "    <tr>\n",
       "      <th>17</th>\n",
       "      <td>437</td>\n",
       "      <td>8.0</td>\n",
       "    </tr>\n",
       "    <tr>\n",
       "      <th>20</th>\n",
       "      <td>441</td>\n",
       "      <td>7.0</td>\n",
       "    </tr>\n",
       "    <tr>\n",
       "      <th>21</th>\n",
       "      <td>442</td>\n",
       "      <td>8.0</td>\n",
       "    </tr>\n",
       "    <tr>\n",
       "      <th>24</th>\n",
       "      <td>445</td>\n",
       "      <td>7.0</td>\n",
       "    </tr>\n",
       "    <tr>\n",
       "      <th>25</th>\n",
       "      <td>446</td>\n",
       "      <td>8.0</td>\n",
       "    </tr>\n",
       "    <tr>\n",
       "      <th>35</th>\n",
       "      <td>458</td>\n",
       "      <td>7.0</td>\n",
       "    </tr>\n",
       "    <tr>\n",
       "      <th>45</th>\n",
       "      <td>471</td>\n",
       "      <td>6.0</td>\n",
       "    </tr>\n",
       "    <tr>\n",
       "      <th>46</th>\n",
       "      <td>472</td>\n",
       "      <td>8.0</td>\n",
       "    </tr>\n",
       "    <tr>\n",
       "      <th>56</th>\n",
       "      <td>486</td>\n",
       "      <td>7.0</td>\n",
       "    </tr>\n",
       "  </tbody>\n",
       "</table>\n",
       "</div>"
      ],
      "text/plain": [
       "    ParticipantId  Last Day With Anxiety > 1\n",
       "8             423                        8.0\n",
       "11            430                        7.0\n",
       "14            433                        8.0\n",
       "17            437                        8.0\n",
       "20            441                        7.0\n",
       "21            442                        8.0\n",
       "24            445                        7.0\n",
       "25            446                        8.0\n",
       "35            458                        7.0\n",
       "45            471                        6.0\n",
       "46            472                        8.0\n",
       "56            486                        7.0"
      ]
     },
     "execution_count": 11,
     "metadata": {},
     "output_type": "execute_result"
    }
   ],
   "source": [
    "def local():\n",
    "    df = emotions_df.copy()\n",
    "    df = df[df[\"State Anxiety\"]!= 1]\n",
    "    \n",
    "    df = df.groupby(\"ParticipantId\")[\"RelDay\"].max().reset_index()\n",
    "\n",
    "    df = df.rename(columns={\"RelDay\":\"Last Day With Anxiety > 1\"})\n",
    "\n",
    "    return df[df[\"Last Day With Anxiety > 1\"] <= 8 ]\n",
    "local()\n"
   ]
  },
  {
   "cell_type": "code",
   "execution_count": 12,
   "metadata": {},
   "outputs": [
    {
     "name": "stdout",
     "output_type": "stream",
     "text": [
      "Dropped 170 rows\n"
     ]
    }
   ],
   "source": [
    "def local():\n",
    "    drop = emotions_df.copy()\n",
    "    keep = emotions_df.copy()\n",
    "    \n",
    "    drop = drop[drop[\"State Anxiety\"]!= 1]\n",
    "    drop = drop.groupby(\"ParticipantId\")[\"RelDay\"].max().reset_index()\n",
    "    drop = drop.rename(columns={\"RelDay\":\"Last Day With Anxiety > 1\"})\n",
    "    drop = drop[drop[\"Last Day With Anxiety > 1\"] <= 8 ]\n",
    "\n",
    "    for pid,day in drop.itertuples(index=False):\n",
    "        is_not_pid = keep[\"ParticipantId\"] != pid\n",
    "        is_lt_day  = keep[\"RelDay\"] < day\n",
    "        keep = keep[is_not_pid | is_lt_day]\n",
    "\n",
    "    return keep\n",
    "\n",
    "keep_df = local()\n",
    "\n",
    "dropped_rows = emotions_df.shape[0]-keep_df.shape[0]\n",
    "print(f\"Dropped {dropped_rows} rows\")\n"
   ]
  }
 ],
 "metadata": {
  "kernelspec": {
   "display_name": "diss",
   "language": "python",
   "name": "python3"
  },
  "language_info": {
   "codemirror_mode": {
    "name": "ipython",
    "version": 3
   },
   "file_extension": ".py",
   "mimetype": "text/x-python",
   "name": "python",
   "nbconvert_exporter": "python",
   "pygments_lexer": "ipython3",
   "version": "3.10.13"
  }
 },
 "nbformat": 4,
 "nbformat_minor": 2
}
