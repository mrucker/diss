{
 "cells": [
  {
   "cell_type": "code",
   "execution_count": 343,
   "id": "100e429e-68d1-4b58-9872-613f60e9ac95",
   "metadata": {},
   "outputs": [],
   "source": [
    "import pandas as pd\n",
    "import numpy as np\n",
    "import parameterfree\n",
    "\n",
    "df = pd.read_csv('sims_features.csv')"
   ]
  },
  {
   "cell_type": "code",
   "execution_count": 473,
   "id": "b6a5baa3-5a82-490e-82a6-2c836165be5d",
   "metadata": {},
   "outputs": [],
   "source": [
    "from itertools import islice\n",
    "\n",
    "def is_pow2(i):\n",
    "    return i & (i-1) == 0\n",
    "\n",
    "class OnlineMean:\n",
    "    def __init__(self):\n",
    "        self.state = [0,0]\n",
    "    def add(self, num):\n",
    "        n,v = self.state\n",
    "        self.state[1] += (num-v)/(n+1)\n",
    "        self.state[0] += 1\n",
    "    def __str__(self):\n",
    "        return str(round(self.state[1],4))\n",
    "    def __repr__(self):\n",
    "        return str(round(self.state[1],4))\n",
    "\n",
    "def batched(iterable, n):\n",
    "    \"Batch data into lists of length n. The last batch may be shorter.\"\n",
    "    # batched('ABCDEFG', 3) --> ABC DEF G\n",
    "    it = iter(iterable)\n",
    "    while True:\n",
    "        batch = list(islice(it, n))\n",
    "        if not batch:\n",
    "            return\n",
    "        yield batch"
   ]
  },
  {
   "cell_type": "code",
   "execution_count": 560,
   "id": "694dfb94-56d9-43ac-a718-217ebb37b1fa",
   "metadata": {},
   "outputs": [],
   "source": [
    "import torch\n",
    "\n",
    "class Linear(torch.nn.Module):\n",
    "    def __init__(self, in_features, out_features, normed=True):\n",
    "        super().__init__()\n",
    "\n",
    "        input_norm   = [torch.nn.LayerNorm(in_features)] if normed else []\n",
    "        output_layer = torch.nn.Linear(in_features=in_features, out_features=out_features)\n",
    "        \n",
    "        self.layers  = torch.nn.Sequential(*input_norm,output_layer, torch.nn.Sigmoid())\n",
    "\n",
    "    def forward(self, Xs):\n",
    "        return self.layers(Xs)\n",
    "\n",
    "class Mlp(torch.nn.Module):\n",
    "    def __init__(self, in_features, out_features, depth=3, width=None, normed=True):\n",
    "        super().__init__()\n",
    "\n",
    "        def not_normed_layers():\n",
    "            yield torch.nn.LeakyReLU()\n",
    "            yield torch.nn.Linear(in_features=width, out_features=width)\n",
    "\n",
    "        def normed_layers():\n",
    "            yield torch.nn.LayerNorm(width)\n",
    "            yield from not_normed_layers()\n",
    "\n",
    "        width  = width or in_features\n",
    "        layers = normed_layers if normed else not_normed_layers\n",
    "\n",
    "        input_norm    = [torch.nn.LayerNorm(in_features)] if normed else []\n",
    "        input_layer   = [torch.nn.Linear(in_features=in_features, out_features=width)   ]\n",
    "        hidden_layers = [torch.nn.Sequential(*layers()) for _ in range(depth)]\n",
    "        output_layer  = torch.nn.Linear(in_features=width, out_features=out_features)\n",
    "\n",
    "        self.layers = torch.nn.Sequential(*input_norm,*input_layer,*hidden_layers,output_layer,torch.nn.Sigmoid())\n",
    "\n",
    "    def forward(self, Xs):\n",
    "        return self.layers(Xs)\n",
    "\n",
    "class ResNet(torch.nn.Module):\n",
    "    def __init__(self, in_features, out_features, depth=3, width=None, normed=True):\n",
    "        super().__init__()\n",
    "\n",
    "        class PreActivationResidualBlock(torch.nn.Module): #https://arxiv.org/abs/1603.05027\n",
    "            def __init__(self, in_width, normed=True) -> None:\n",
    "                super().__init__()\n",
    "\n",
    "                def not_normed_layer():\n",
    "                    yield torch.nn.LeakyReLU()\n",
    "                    yield torch.nn.Linear(in_features=in_width, out_features=in_width)\n",
    "\n",
    "                def normed_layer():\n",
    "                    yield torch.nn.LayerNorm(in_width)\n",
    "                    yield from not_normed_layer()\n",
    "\n",
    "                layer = normed_layer if normed else not_normed_layer\n",
    "                self.layers = torch.nn.Sequential(*layer(),*layer())\n",
    "\n",
    "            def forward(self, Xs):\n",
    "                return Xs+self.layers(Xs)\n",
    "\n",
    "        width  = width or in_features\n",
    "\n",
    "        input_norm    = [torch.nn.LayerNorm(in_features)] if normed else []\n",
    "        input_layer   = [torch.nn.Linear(in_features=in_features, out_features=width)]\n",
    "        hidden_layers = [PreActivationResidualBlock(width,normed) for _ in range(depth)]\n",
    "        output_layer  = torch.nn.Linear(in_features=width, out_features=out_features)\n",
    "\n",
    "        self.layers  = torch.nn.Sequential(*input_norm,*input_layer,*hidden_layers,output_layer,torch.nn.Sigmoid())\n",
    "\n",
    "    def forward(self, Xs):\n",
    "        return self.layers(Xs)"
   ]
  },
  {
   "cell_type": "code",
   "execution_count": 475,
   "id": "ac10e55c-561e-4cd8-89fa-db5c54b68c40",
   "metadata": {},
   "outputs": [],
   "source": [
    "def train_model(Xs, ys, model, opt, sched, loss, batch=8, epoch=1):\n",
    "\n",
    "    tot = OnlineMean()\n",
    "    idx = list(range(len(Xs)))\n",
    "    np.random.seed(1)\n",
    "    i = 0\n",
    "\n",
    "    for _ in range(epoch):\n",
    "        np.random.shuffle(idx)\n",
    "\n",
    "        for b in batched(idx,batch):\n",
    "\n",
    "            X = Xs[b]\n",
    "            y = ys[b]\n",
    "\n",
    "            i+=1\n",
    "\n",
    "            opt.zero_grad()\n",
    "\n",
    "            err = loss(model(X),y)\n",
    "            err.backward()\n",
    "\n",
    "            tot.add(err.item())\n",
    "            opt.step()\n",
    "\n",
    "            #if is_pow2(i) or i==1:\n",
    "            #    print((i,tot))\n",
    "        if sched: sched.step()\n",
    "\n",
    "    return model.eval()"
   ]
  },
  {
   "cell_type": "code",
   "execution_count": 551,
   "id": "8f5edfa4-fe8f-41d2-a286-c3d646a4333b",
   "metadata": {},
   "outputs": [
    {
     "name": "stdout",
     "output_type": "stream",
     "text": [
      "0.6162\n"
     ]
    }
   ],
   "source": [
    "scores,labels=[],[]\n",
    "for pid in sorted(set(df.participant_id)):\n",
    "            \n",
    "    trn = df.loc[df.participant_id!=pid,:]\n",
    "    tst = df.loc[df.participant_id==pid,:]\n",
    "    X_trn = torch.tensor(trn.iloc[:,7:].to_numpy()).float()\n",
    "    y_trn = torch.tensor(((trn['experience_id'] != 1) & (trn['phase_id'] == 1)).astype(int).to_numpy())[:,None].float()\n",
    "    X_tst = torch.tensor(tst.iloc[:,7:].to_numpy()).float()\n",
    "    y_tst = torch.tensor(((tst['experience_id'] != 1) & (tst['phase_id'] == 1)).astype(int).to_numpy())[:,None].float()\n",
    "\n",
    "    model = Linear(13,1)\n",
    "    loss  = torch.nn.BCELoss()\n",
    "    opt   = parameterfree.COCOB(model.parameters())\n",
    "\n",
    "    model = train_model(X_trn,y_trn,model,opt,None,loss,4,3)\n",
    "    with torch.no_grad():\n",
    "        scores.extend(model(X_tst).squeeze().tolist())\n",
    "        labels.extend(y_tst.squeeze().tolist())\n",
    "print(round(roc_auc_score(labels,scores),4))"
   ]
  },
  {
   "cell_type": "code",
   "execution_count": 557,
   "id": "b9e14b5e-c356-45e8-9b9d-dac637a2c330",
   "metadata": {},
   "outputs": [
    {
     "name": "stdout",
     "output_type": "stream",
     "text": [
      "(2, 4, 0.6017)\n",
      "(2, 8, 0.6175)\n",
      "(2, 16, 0.6281)\n",
      "(2, 24, 0.6349)\n",
      "(4, 4, 0.6027)\n",
      "(4, 8, 0.6262)\n",
      "(4, 16, 0.6276)\n",
      "(4, 24, 0.6225)\n",
      "(6, 4, 0.6048)\n",
      "(6, 8, 0.6112)\n",
      "(6, 16, 0.6285)\n",
      "(6, 24, 0.6272)\n",
      "(8, 4, 0.6008)\n",
      "(8, 8, 0.6144)\n",
      "(8, 16, 0.6277)\n",
      "(8, 24, 0.6221)\n",
      "(10, 4, 0.5965)\n",
      "(10, 8, 0.6139)\n",
      "(10, 16, 0.6262)\n",
      "(10, 24, 0.6286)\n",
      "(12, 4, 0.5964)\n",
      "(12, 8, 0.6156)\n",
      "(12, 16, 0.6183)\n",
      "(12, 24, 0.6281)\n"
     ]
    }
   ],
   "source": [
    "from itertools import product\n",
    "from sklearn.metrics import roc_auc_score \n",
    "\n",
    "for d,w in product([2,4,6,8,10,12],[4,8,16,24]):\n",
    "    scores=[]\n",
    "    labels=[]\n",
    "\n",
    "    for pid in sorted(set(df.participant_id)):\n",
    "                \n",
    "        trn = df.loc[df.participant_id!=pid,:]\n",
    "        tst = df.loc[df.participant_id==pid,:]\n",
    "        X_trn = torch.tensor(trn.iloc[:,7:].to_numpy()).float()\n",
    "        y_trn = torch.tensor(((trn['experience_id'] != 1) & (trn['phase_id'] == 1)).astype(int).to_numpy())[:,None].float()\n",
    "        X_tst = torch.tensor(tst.iloc[:,7:].to_numpy()).float()\n",
    "        y_tst = torch.tensor(((tst['experience_id'] != 1) & (tst['phase_id'] == 1)).astype(int).to_numpy())[:,None].float()\n",
    "    \n",
    "        model = ResNet(13,1,depth=d,width=w)\n",
    "        loss  = torch.nn.BCELoss()\n",
    "        opt   = parameterfree.COCOB(model.parameters())\n",
    "\n",
    "        model = train_model(X_trn,y_trn,model,opt,None,loss,4,3)\n",
    "        with torch.no_grad():\n",
    "            scores.extend(model(X_tst).squeeze().tolist())\n",
    "            labels.extend(y_tst.squeeze().tolist())\n",
    "    print((d,w,round(roc_auc_score(labels,scores),4)))"
   ]
  },
  {
   "cell_type": "code",
   "execution_count": 561,
   "id": "2c13a174-e704-4d7c-855f-0e26dcdc316e",
   "metadata": {},
   "outputs": [
    {
     "name": "stdout",
     "output_type": "stream",
     "text": [
      "(2, 4, 0.5864)\n",
      "(2, 8, 0.6167)\n",
      "(2, 16, 0.6258)\n",
      "(2, 24, 0.6229)\n",
      "(4, 4, 0.5231)\n",
      "(4, 8, 0.6169)\n",
      "(4, 16, 0.6074)\n",
      "(4, 24, 0.6236)\n",
      "(6, 4, 0.5191)\n",
      "(6, 8, 0.5442)\n",
      "(6, 16, 0.5785)\n",
      "(6, 24, 0.594)\n"
     ]
    },
    {
     "ename": "KeyboardInterrupt",
     "evalue": "",
     "output_type": "error",
     "traceback": [
      "\u001b[1;31m---------------------------------------------------------------------------\u001b[0m",
      "\u001b[1;31mKeyboardInterrupt\u001b[0m                         Traceback (most recent call last)",
      "Cell \u001b[1;32mIn[561], line 21\u001b[0m\n\u001b[0;32m     18\u001b[0m loss  \u001b[38;5;241m=\u001b[39m torch\u001b[38;5;241m.\u001b[39mnn\u001b[38;5;241m.\u001b[39mBCELoss()\n\u001b[0;32m     19\u001b[0m opt   \u001b[38;5;241m=\u001b[39m parameterfree\u001b[38;5;241m.\u001b[39mCOCOB(model\u001b[38;5;241m.\u001b[39mparameters())\n\u001b[1;32m---> 21\u001b[0m model \u001b[38;5;241m=\u001b[39m \u001b[43mtrain_model\u001b[49m\u001b[43m(\u001b[49m\u001b[43mX_trn\u001b[49m\u001b[43m,\u001b[49m\u001b[43my_trn\u001b[49m\u001b[43m,\u001b[49m\u001b[43mmodel\u001b[49m\u001b[43m,\u001b[49m\u001b[43mopt\u001b[49m\u001b[43m,\u001b[49m\u001b[38;5;28;43;01mNone\u001b[39;49;00m\u001b[43m,\u001b[49m\u001b[43mloss\u001b[49m\u001b[43m,\u001b[49m\u001b[38;5;241;43m4\u001b[39;49m\u001b[43m,\u001b[49m\u001b[38;5;241;43m3\u001b[39;49m\u001b[43m)\u001b[49m\n\u001b[0;32m     22\u001b[0m \u001b[38;5;28;01mwith\u001b[39;00m torch\u001b[38;5;241m.\u001b[39mno_grad():\n\u001b[0;32m     23\u001b[0m     scores\u001b[38;5;241m.\u001b[39mextend(model(X_tst)\u001b[38;5;241m.\u001b[39msqueeze()\u001b[38;5;241m.\u001b[39mtolist())\n",
      "Cell \u001b[1;32mIn[475], line 21\u001b[0m, in \u001b[0;36mtrain_model\u001b[1;34m(Xs, ys, model, opt, sched, loss, batch, epoch)\u001b[0m\n\u001b[0;32m     18\u001b[0m opt\u001b[38;5;241m.\u001b[39mzero_grad()\n\u001b[0;32m     20\u001b[0m err \u001b[38;5;241m=\u001b[39m loss(model(X),y)\n\u001b[1;32m---> 21\u001b[0m \u001b[43merr\u001b[49m\u001b[38;5;241;43m.\u001b[39;49m\u001b[43mbackward\u001b[49m\u001b[43m(\u001b[49m\u001b[43m)\u001b[49m\n\u001b[0;32m     23\u001b[0m tot\u001b[38;5;241m.\u001b[39madd(err\u001b[38;5;241m.\u001b[39mitem())\n\u001b[0;32m     24\u001b[0m opt\u001b[38;5;241m.\u001b[39mstep()\n",
      "File \u001b[1;32m~\\miniconda3\\envs\\diss\\lib\\site-packages\\torch\\_tensor.py:522\u001b[0m, in \u001b[0;36mTensor.backward\u001b[1;34m(self, gradient, retain_graph, create_graph, inputs)\u001b[0m\n\u001b[0;32m    512\u001b[0m \u001b[38;5;28;01mif\u001b[39;00m has_torch_function_unary(\u001b[38;5;28mself\u001b[39m):\n\u001b[0;32m    513\u001b[0m     \u001b[38;5;28;01mreturn\u001b[39;00m handle_torch_function(\n\u001b[0;32m    514\u001b[0m         Tensor\u001b[38;5;241m.\u001b[39mbackward,\n\u001b[0;32m    515\u001b[0m         (\u001b[38;5;28mself\u001b[39m,),\n\u001b[1;32m   (...)\u001b[0m\n\u001b[0;32m    520\u001b[0m         inputs\u001b[38;5;241m=\u001b[39minputs,\n\u001b[0;32m    521\u001b[0m     )\n\u001b[1;32m--> 522\u001b[0m \u001b[43mtorch\u001b[49m\u001b[38;5;241;43m.\u001b[39;49m\u001b[43mautograd\u001b[49m\u001b[38;5;241;43m.\u001b[39;49m\u001b[43mbackward\u001b[49m\u001b[43m(\u001b[49m\n\u001b[0;32m    523\u001b[0m \u001b[43m    \u001b[49m\u001b[38;5;28;43mself\u001b[39;49m\u001b[43m,\u001b[49m\u001b[43m \u001b[49m\u001b[43mgradient\u001b[49m\u001b[43m,\u001b[49m\u001b[43m \u001b[49m\u001b[43mretain_graph\u001b[49m\u001b[43m,\u001b[49m\u001b[43m \u001b[49m\u001b[43mcreate_graph\u001b[49m\u001b[43m,\u001b[49m\u001b[43m \u001b[49m\u001b[43minputs\u001b[49m\u001b[38;5;241;43m=\u001b[39;49m\u001b[43minputs\u001b[49m\n\u001b[0;32m    524\u001b[0m \u001b[43m\u001b[49m\u001b[43m)\u001b[49m\n",
      "File \u001b[1;32m~\\miniconda3\\envs\\diss\\lib\\site-packages\\torch\\autograd\\__init__.py:266\u001b[0m, in \u001b[0;36mbackward\u001b[1;34m(tensors, grad_tensors, retain_graph, create_graph, grad_variables, inputs)\u001b[0m\n\u001b[0;32m    261\u001b[0m     retain_graph \u001b[38;5;241m=\u001b[39m create_graph\n\u001b[0;32m    263\u001b[0m \u001b[38;5;66;03m# The reason we repeat the same comment below is that\u001b[39;00m\n\u001b[0;32m    264\u001b[0m \u001b[38;5;66;03m# some Python versions print out the first line of a multi-line function\u001b[39;00m\n\u001b[0;32m    265\u001b[0m \u001b[38;5;66;03m# calls in the traceback and some print out the last line\u001b[39;00m\n\u001b[1;32m--> 266\u001b[0m \u001b[43mVariable\u001b[49m\u001b[38;5;241;43m.\u001b[39;49m\u001b[43m_execution_engine\u001b[49m\u001b[38;5;241;43m.\u001b[39;49m\u001b[43mrun_backward\u001b[49m\u001b[43m(\u001b[49m\u001b[43m  \u001b[49m\u001b[38;5;66;43;03m# Calls into the C++ engine to run the backward pass\u001b[39;49;00m\n\u001b[0;32m    267\u001b[0m \u001b[43m    \u001b[49m\u001b[43mtensors\u001b[49m\u001b[43m,\u001b[49m\n\u001b[0;32m    268\u001b[0m \u001b[43m    \u001b[49m\u001b[43mgrad_tensors_\u001b[49m\u001b[43m,\u001b[49m\n\u001b[0;32m    269\u001b[0m \u001b[43m    \u001b[49m\u001b[43mretain_graph\u001b[49m\u001b[43m,\u001b[49m\n\u001b[0;32m    270\u001b[0m \u001b[43m    \u001b[49m\u001b[43mcreate_graph\u001b[49m\u001b[43m,\u001b[49m\n\u001b[0;32m    271\u001b[0m \u001b[43m    \u001b[49m\u001b[43minputs\u001b[49m\u001b[43m,\u001b[49m\n\u001b[0;32m    272\u001b[0m \u001b[43m    \u001b[49m\u001b[43mallow_unreachable\u001b[49m\u001b[38;5;241;43m=\u001b[39;49m\u001b[38;5;28;43;01mTrue\u001b[39;49;00m\u001b[43m,\u001b[49m\n\u001b[0;32m    273\u001b[0m \u001b[43m    \u001b[49m\u001b[43maccumulate_grad\u001b[49m\u001b[38;5;241;43m=\u001b[39;49m\u001b[38;5;28;43;01mTrue\u001b[39;49;00m\u001b[43m,\u001b[49m\n\u001b[0;32m    274\u001b[0m \u001b[43m\u001b[49m\u001b[43m)\u001b[49m\n",
      "\u001b[1;31mKeyboardInterrupt\u001b[0m: "
     ]
    }
   ],
   "source": [
    "from itertools import product\n",
    "from sklearn.metrics import roc_auc_score \n",
    "\n",
    "for d,w in product([2,4,6,8,10,12],[4,8,16,24]):\n",
    "    scores=[]\n",
    "    labels=[]\n",
    "\n",
    "    for pid in sorted(set(df.participant_id)):\n",
    "\n",
    "        trn = df.loc[df.participant_id!=pid,:]\n",
    "        tst = df.loc[df.participant_id==pid,:]\n",
    "        X_trn = torch.tensor(trn.iloc[:,7:].to_numpy()).float()\n",
    "        y_trn = torch.tensor(((trn['experience_id'] != 1) & (trn['phase_id'] == 1)).astype(int).to_numpy())[:,None].float()\n",
    "        X_tst = torch.tensor(tst.iloc[:,7:].to_numpy()).float()\n",
    "        y_tst = torch.tensor(((tst['experience_id'] != 1) & (tst['phase_id'] == 1)).astype(int).to_numpy())[:,None].float()\n",
    "\n",
    "        model = Mlp(13,1,depth=d,width=w)\n",
    "        loss  = torch.nn.BCELoss()\n",
    "        opt   = parameterfree.COCOB(model.parameters())\n",
    "\n",
    "        model = train_model(X_trn,y_trn,model,opt,None,loss,4,3)\n",
    "        with torch.no_grad():\n",
    "            scores.extend(model(X_tst).squeeze().tolist())\n",
    "            labels.extend(y_tst.squeeze().tolist())\n",
    "    print((d,w,round(roc_auc_score(labels,scores),4)))"
   ]
  },
  {
   "cell_type": "code",
   "execution_count": 525,
   "id": "b63f0e23-10e7-4ca6-9218-98c3fc645845",
   "metadata": {},
   "outputs": [
    {
     "data": {
      "text/plain": [
       "0.7520055008022003"
      ]
     },
     "execution_count": 525,
     "metadata": {},
     "output_type": "execute_result"
    }
   ],
   "source": [
    "np.mean(np.array(labels) == (np.array(scores)>.5).astype(float))"
   ]
  },
  {
   "cell_type": "code",
   "execution_count": 528,
   "id": "75195434-6aa8-4ca9-ad40-55ab2d89005b",
   "metadata": {},
   "outputs": [
    {
     "data": {
      "text/plain": [
       "0.7323752788129534"
      ]
     },
     "execution_count": 528,
     "metadata": {},
     "output_type": "execute_result"
    }
   ],
   "source": [
    "from sklearn.metrics import balanced_accuracy_score\n",
    "\n",
    "balanced_accuracy_score(labels,(np.array(scores)>.5).astype(float))"
   ]
  },
  {
   "cell_type": "code",
   "execution_count": 530,
   "id": "e72a00b9-c973-488a-a755-59c20971c5dc",
   "metadata": {},
   "outputs": [
    {
     "name": "stdout",
     "output_type": "stream",
     "text": [
      "0.6430669800235017\n",
      "0.8216835776024051\n"
     ]
    }
   ],
   "source": [
    "print(np.mean(np.array(scores)[np.array(labels)==1]>.5))\n",
    "print(np.mean(np.array(scores)[np.array(labels)==0]<.5))"
   ]
  },
  {
   "cell_type": "code",
   "execution_count": 523,
   "id": "57adce46-2b29-4bf4-b2c0-5d364f263609",
   "metadata": {},
   "outputs": [
    {
     "data": {
      "text/plain": [
       "tensor([14.])"
      ]
     },
     "execution_count": 523,
     "metadata": {},
     "output_type": "execute_result"
    }
   ],
   "source": [
    "sum(torch.tensor(((tst['experience_id'] != 1) & (tst['phase_id'] == 1)).astype(int).to_numpy())[:,None].float())"
   ]
  },
  {
   "cell_type": "code",
   "execution_count": 555,
   "id": "b688da3f-c68c-42be-897f-940bd2bdff57",
   "metadata": {},
   "outputs": [
    {
     "data": {
      "text/plain": [
       "[(1, 4), (1, 5), (1, 6), (2, 4), (2, 5), (2, 6), (3, 4), (3, 5), (3, 6)]"
      ]
     },
     "execution_count": 555,
     "metadata": {},
     "output_type": "execute_result"
    }
   ],
   "source": [
    "list(product([1,2,3],[4,5,6]))"
   ]
  },
  {
   "cell_type": "code",
   "execution_count": 472,
   "id": "04478d91-5d2d-49f4-a7ad-e4ad0acc1e13",
   "metadata": {},
   "outputs": [
    {
     "data": {
      "text/plain": [
       "0.7632"
      ]
     },
     "execution_count": 472,
     "metadata": {},
     "output_type": "execute_result"
    }
   ],
   "source": [
    "from sklearn.metrics import roc_auc_score \n",
    "\n",
    "round(roc_auc_score(labels,scores),4)"
   ]
  },
  {
   "cell_type": "code",
   "execution_count": 469,
   "id": "2565c414-5ceb-448f-b1fb-ff1a70af00a4",
   "metadata": {},
   "outputs": [
    {
     "data": {
      "image/png": "[encoded data removed]",
      "text/plain": [
       "<Figure size 640x480 with 1 Axes>"
      ]
     },
     "metadata": {},
     "output_type": "display_data"
    }
   ],
   "source": [
    "import matplotlib.pyplot as plt\n",
    "\n",
    "from sklearn.metrics import RocCurveDisplay\n",
    "\n",
    "display = RocCurveDisplay.from_predictions(\n",
    "    labels,\n",
    "    scores,\n",
    "    name=f\"pre-phase vs the rest\",\n",
    "    color=\"darkorange\",\n",
    "    plot_chance_level=True,\n",
    ")\n",
    "_ = display.ax_.set(\n",
    "    xlabel=\"False Positive Rate\",\n",
    "    ylabel=\"True Positive Rate\",\n",
    "    title=\"One-vs-Rest ROC curves:\\nVirginica vs (Setosa & Versicolor)\",\n",
    ")"
   ]
  },
  {
   "cell_type": "code",
   "execution_count": 305,
   "id": "f6a2e0ac-63c4-4e00-952a-aef9ddc8f03c",
   "metadata": {},
   "outputs": [],
   "source": [
    "for x,y in zip(X_trn,y_trn):\n",
    "    pass"
   ]
  },
  {
   "cell_type": "code",
   "execution_count": 307,
   "id": "37ba9469-4b61-4ef3-a944-be206f72df51",
   "metadata": {},
   "outputs": [
    {
     "data": {
      "text/plain": [
       "0"
      ]
     },
     "execution_count": 307,
     "metadata": {},
     "output_type": "execute_result"
    }
   ],
   "source": [
    "y"
   ]
  }
 ],
 "metadata": {
  "kernelspec": {
   "display_name": "Python 3 (ipykernel)",
   "language": "python",
   "name": "python3"
  },
  "language_info": {
   "codemirror_mode": {
    "name": "ipython",
    "version": 3
   },
   "file_extension": ".py",
   "mimetype": "text/x-python",
   "name": "python",
   "nbconvert_exporter": "python",
   "pygments_lexer": "ipython3",
   "version": "3.10.0"
  }
 },
 "nbformat": 4,
 "nbformat_minor": 5
}
