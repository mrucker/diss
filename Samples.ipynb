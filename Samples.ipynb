{
 "cells": [
  {
   "cell_type": "code",
   "execution_count": 3,
   "id": "28c953ae-f88c-4540-9026-14c519217a73",
   "metadata": {
    "editable": true,
    "slideshow": {
     "slide_type": ""
    },
    "tags": []
   },
   "outputs": [
    {
     "name": "stdout",
     "output_type": "stream",
     "text": [
      "Note: you may need to restart the kernel to use updated packages.\n"
     ]
    }
   ],
   "source": [
    "%pip install torch parameterfree pandas numpy scikit-learn matplotlib cloudpickle xgboost openpyxl --quiet"
   ]
  },
  {
   "cell_type": "markdown",
   "id": "7177a09b-695a-4b98-9985-25e1820efa3d",
   "metadata": {},
   "source": [
    "### Load the data"
   ]
  },
  {
   "cell_type": "code",
   "execution_count": 1,
   "id": "100e429e-68d1-4b58-9872-613f60e9ac95",
   "metadata": {},
   "outputs": [],
   "source": [
    "import pandas as pd\n",
    "df = pd.read_csv('data/sims_features1.csv')"
   ]
  },
  {
   "cell_type": "markdown",
   "id": "211c84e7-87f6-4083-8e32-571909a00108",
   "metadata": {},
   "source": [
    "### Helpful Sources about Architectures\n",
    "\n",
    "+ If normalizing do it before activation https://forums.fast.ai/t/why-perform-batch-norm-before-relu-and-not-after/81293/4\n",
    "+ What are residual networks https://arxiv.org/pdf/1512.03385.pdf\n",
    "+ When building residual networks use pre-activation https://arxiv.org/abs/1603.05027\n",
    "+ There is not one universal best normalization method https://proceedings.neurips.cc/paper/2021/hash/2578eb9cdf020730f77793e8b58e165a-Abstract.html\n",
    "+ Adam is the standard optimizer but takes a lot of tuning. COCOB tunes automatically https://github.com/bremen79/parameterfree\n",
    "+ Smaller batches tend to be better? (this seems to be with fixed epochs though so may not be relevant) https://arxiv.org/pdf/1804.07612.pdf"
   ]
  },
  {
   "cell_type": "markdown",
   "id": "dce3d4ac-5672-46fe-b3ba-84c2b3f491ad",
   "metadata": {},
   "source": [
    "### Basic Architectures"
   ]
  },
  {
   "cell_type": "code",
   "execution_count": 2,
   "id": "694dfb94-56d9-43ac-a718-217ebb37b1fa",
   "metadata": {},
   "outputs": [],
   "source": [
    "from itertools import chain\n",
    "import torch\n",
    "\n",
    "class Linear(torch.nn.Module):\n",
    "    def __init__(self, in_features, out_features, norm='l'):\n",
    "        super().__init__()\n",
    "\n",
    "        if norm == 'l': norm = [torch.nn.LayerNorm  (in_features)]\n",
    "        if norm == 'b': norm = [torch.nn.BatchNorm1d(in_features)]\n",
    "\n",
    "        input_norm   = norm or []\n",
    "        output_layer = torch.nn.Linear(in_features=in_features, out_features=out_features)\n",
    "        self.layers  = torch.nn.Sequential(*input_norm, output_layer)\n",
    "\n",
    "    def forward(self, Xs):\n",
    "        return self.layers(Xs)\n",
    "\n",
    "class Mlp(torch.nn.Module):\n",
    "    def __init__(self, in_features, out_features, depth=3, width=None, norm='l'):\n",
    "        super().__init__()\n",
    "\n",
    "        def norm_layer(in_width, out_width, norm):\n",
    "            norm = torch.nn.LayerNorm(out_width) if norm == 'l' else torch.nn.BatchNorm1d(out_width)\n",
    "            return torch.nn.Sequential(torch.nn.Linear(in_features=in_width, out_features=out_width), norm, torch.nn.ReLU())\n",
    "\n",
    "        def no_norm_layer(in_width, out_width):\n",
    "            return torch.nn.Sequential(torch.nn.Linear(in_features=in_width, out_features=out_width), torch.nn.ReLU())\n",
    "\n",
    "        def layer(in_width, out_width, norm):\n",
    "            if norm:\n",
    "                return norm_layer(in_width, out_width, norm)\n",
    "            else:\n",
    "                return no_norm_layer(in_width, out_width)\n",
    "\n",
    "        width = width or in_features\n",
    "\n",
    "        input_layer   =   layer(in_features, width       , norm)\n",
    "        hidden_layers = [ layer(width      , width       , norm) for _ in range(depth) ]\n",
    "        output_layer  =   torch.nn.Linear(in_features=width, out_features=out_features)\n",
    "\n",
    "        self.layers  = torch.nn.Sequential(input_layer,*hidden_layers,output_layer)\n",
    "\n",
    "    def forward(self, Xs):\n",
    "        return self.layers(Xs)\n",
    "\n",
    "class ResNet(torch.nn.Module):\n",
    "    def __init__(self, in_features, out_features, depth=3, width=None, norm='l'):\n",
    "        super().__init__()        \n",
    "\n",
    "        def norm_layer(in_width, out_width, norm):\n",
    "            norm = torch.nn.LayerNorm(in_width) if norm == 'l' else torch.nn.BatchNorm1d(width)\n",
    "            return torch.nn.Sequential(norm,torch.nn.ReLU(),torch.nn.Linear(in_features=in_width,out_features=out_width))\n",
    "\n",
    "        def no_norm_layer(in_width, out_width):\n",
    "            return torch.nn.Sequential(torch.nn.ReLU(),torch.nn.Linear(in_features=in_width, out_features=out_width))\n",
    "\n",
    "        def layer(in_width, out_width, norm):\n",
    "            return norm_layer(in_width, out_width, norm) if norm else no_norm_layer(in_width, out_width)\n",
    "\n",
    "        class PreActivationResidualBlock(torch.nn.Module):\n",
    "            def __init__(self, in_width, norm) -> None:\n",
    "                super().__init__()\n",
    "                self.layers = torch.nn.Sequential(layer(in_width,in_width,norm),layer(in_width,in_width,norm))\n",
    "            def forward(self, Xs):\n",
    "                return Xs+self.layers(Xs)\n",
    "\n",
    "        width  = width or in_features\n",
    "\n",
    "        input_layer   = torch.nn.Linear(in_features=in_features, out_features=width)\n",
    "        hidden_layers = [PreActivationResidualBlock(width,norm) for _ in range(depth)]\n",
    "        output_layer  = layer(width,out_features,norm)\n",
    "\n",
    "        self.layers  = torch.nn.Sequential(input_layer,*hidden_layers,output_layer)\n",
    "\n",
    "    def forward(self, Xs):\n",
    "        return self.layers(Xs)\n",
    "\n",
    "class ResNetDropout(torch.nn.Module):\n",
    "    def __init__(self, in_features, out_features, depth=3, width=None, drop=[.2,.5]):\n",
    "        super().__init__()\n",
    "\n",
    "        def layer(in_width,out_width,drop):\n",
    "            return torch.nn.Sequential(torch.nn.ReLU(),torch.nn.Dropout(drop),torch.nn.Linear(in_features=in_width, out_features=out_width))\n",
    "        \n",
    "        class PreActivationResidualBlock(torch.nn.Module):\n",
    "            def __init__(self, in_width, drop) -> None:\n",
    "                super().__init__()\n",
    "                self.layers = torch.nn.Sequential(layer(in_width,in_width,drop),layer(in_width,in_width,drop))\n",
    "            def forward(self, Xs):\n",
    "                return Xs+self.layers(Xs)\n",
    "\n",
    "        width  = width or in_features\n",
    "\n",
    "        input_layer   = torch.nn.Linear(in_features=in_features, out_features=width)\n",
    "        hidden_layers = [PreActivationResidualBlock(width,drop[1]) for _ in range(depth)]\n",
    "        output_layer  = layer(width,out_features,drop[1])\n",
    "\n",
    "        self.layers  = torch.nn.Sequential(torch.nn.Dropout(drop[0]),input_layer,*hidden_layers,output_layer)\n",
    "\n",
    "    def forward(self, Xs):\n",
    "        return self.layers(Xs)"
   ]
  },
  {
   "cell_type": "markdown",
   "id": "b3390755-4626-494d-a509-28742edc744c",
   "metadata": {},
   "source": [
    "# ---------------------- STOP ----------------------"
   ]
  },
  {
   "cell_type": "markdown",
   "id": "b4f8ff05-a3c0-478c-94a3-8a8146c384d3",
   "metadata": {},
   "source": [
    "### Hyperparameter Sweeps no SSL"
   ]
  },
  {
   "cell_type": "code",
   "execution_count": 6,
   "id": "468c0bc6-d662-4957-96db-832fe4dc8c0e",
   "metadata": {},
   "outputs": [
    {
     "name": "stdout",
     "output_type": "stream",
     "text": [
      "CPU times: user 1.64 s, sys: 607 ms, total: 2.25 s\n",
      "Wall time: 9min 20s\n"
     ]
    },
    {
     "data": {
      "text/plain": [
       "[(4, 16, 'b', 4, 0.620711114376099),\n",
       " (4, 16, 'b', 6, 0.6151492278048416),\n",
       " (5, 16, 'b', 4, 0.6184607214296973),\n",
       " (5, 16, 'b', 6, 0.6205505994058742),\n",
       " (4, 32, (0.2, 0.4), 6, 0.627800250077671),\n",
       " (4, 32, (0.2, 0.4), 8, 0.6222530559522006),\n",
       " (4, 64, (0.2, 0.4), 6, 0.6230621658807738),\n",
       " (4, 64, (0.2, 0.4), 8, 0.6287001011636111)]"
      ]
     },
     "execution_count": 6,
     "metadata": {},
     "output_type": "execute_result"
    }
   ],
   "source": [
    "%%time\n",
    "def local(device):\n",
    "    import cloudpickle\n",
    "    from itertools import product\n",
    "    from collections import defaultdict\n",
    "    from concurrent.futures import ProcessPoolExecutor\n",
    "    from sklearn.metrics import roc_auc_score \n",
    "    from eval import eval1\n",
    "\n",
    "    numthreads = 1\n",
    "    maxworkers = 35\n",
    "\n",
    "    b = 16\n",
    "\n",
    "    ins  = []\n",
    "    outs = defaultdict(lambda:([],[]))\n",
    "\n",
    "    for d,w,n,e in product([4,5],[16],['b'],[4,6]):\n",
    "        model = cloudpickle.dumps(ResNet(13,1,depth=d,width=w,norm=n))\n",
    "        key   = (d,w,n,e)\n",
    "        for _ in range(5):\n",
    "            for pid in sorted(set(df.participant_id)):\n",
    "                ins.append( (model,pid,key,b,e,numthreads,device,None) )\n",
    "\n",
    "    for d,w,n,e in product([4],[32,64],[ (.2,.4) ],[6,8]):\n",
    "        model = cloudpickle.dumps(ResNetDropout(13,1,depth=d,width=w,drop=n))\n",
    "        key   = (d,w,n,e)\n",
    "        for _ in range(5):\n",
    "            for pid in sorted(set(df.participant_id)):\n",
    "                ins.append( (model,pid,key,b,e,numthreads,device,None) )\n",
    "\n",
    "    with ProcessPoolExecutor(max_workers=maxworkers) as executor:\n",
    "        mapper = map if maxworkers == 1 else executor.map\n",
    "        for k,s,l in mapper(eval,ins):\n",
    "            outs[k][0].extend(s)\n",
    "            outs[k][1].extend(l)\n",
    "\n",
    "    return [ (*k,roc_auc_score(labels,scores)) for k,(scores,labels) in outs.items() ]\n",
    "\n",
    "local('cpu')"
   ]
  },
  {
   "cell_type": "code",
   "execution_count": 7,
   "id": "c1b37e24-5a10-4f73-be63-5e3e3b5fe5d4",
   "metadata": {},
   "outputs": [
    {
     "name": "stdout",
     "output_type": "stream",
     "text": [
      "CPU times: user 969 ms, sys: 492 ms, total: 1.46 s\n",
      "Wall time: 7min 17s\n"
     ]
    },
    {
     "data": {
      "text/plain": [
       "[(4, 64, (0.2, 0.4), 8, 0.6312121420820725),\n",
       " (4, 64, (0.2, 0.4), 10, 0.6264358422214978),\n",
       " (6, 64, (0.2, 0.4), 8, 0.625880544293898),\n",
       " (6, 64, (0.2, 0.4), 10, 0.6298588453880261)]"
      ]
     },
     "execution_count": 7,
     "metadata": {},
     "output_type": "execute_result"
    }
   ],
   "source": [
    "%%time\n",
    "def local(device):\n",
    "    import cloudpickle\n",
    "    from itertools import product\n",
    "    from collections import defaultdict\n",
    "    from concurrent.futures import ProcessPoolExecutor\n",
    "    from sklearn.metrics import roc_auc_score \n",
    "    from eval import eval1\n",
    "\n",
    "    numthreads = 1\n",
    "    maxworkers = 35\n",
    "\n",
    "    b = 16\n",
    "\n",
    "    ins  = []\n",
    "    outs = defaultdict(lambda:([],[]))\n",
    "\n",
    "    for d,w,n,e in product([4],[64],[ (.2,.4),(.2,.2),(.1,.4),(.1,.2) ],[8]):\n",
    "        model = cloudpickle.dumps(ResNetDropout(13,1,depth=d,width=w,drop=n))\n",
    "        key   = (d,w,n,e)\n",
    "        for _ in range(5):\n",
    "            for pid in sorted(set(df.participant_id)):\n",
    "                ins.append( (model,pid,key,b,e,numthreads,device,None) )\n",
    "\n",
    "    with ProcessPoolExecutor(max_workers=maxworkers) as executor:\n",
    "        mapper = map if maxworkers == 1 else executor.map\n",
    "        for k,s,l in mapper(eval,ins):\n",
    "            outs[k][0].extend(s)\n",
    "            outs[k][1].extend(l)\n",
    "\n",
    "    return [ (*k,roc_auc_score(labels,scores)) for k,(scores,labels) in outs.items() ]\n",
    "\n",
    "local('cpu')"
   ]
  },
  {
   "cell_type": "code",
   "execution_count": 9,
   "id": "11e14815-3395-4880-a81c-4caef3890dee",
   "metadata": {},
   "outputs": [
    {
     "name": "stdout",
     "output_type": "stream",
     "text": [
      "CPU times: user 2.11 s, sys: 920 ms, total: 3.03 s\n",
      "Wall time: 25min 15s\n"
     ]
    },
    {
     "data": {
      "text/plain": [
       "[(4, 64, (0.2, 0.4), 8, 0.6340980407011357),\n",
       " (4, 64, (0.2, 0.2), 8, 0.6288133209978009),\n",
       " (4, 64, (0.1, 0.4), 8, 0.6338421587488159),\n",
       " (4, 64, (0.1, 0.2), 8, 0.6294226595775616),\n",
       " (20, 32, (0.2, 0.5), 12, 0.6194232870674338)]"
      ]
     },
     "execution_count": 9,
     "metadata": {},
     "output_type": "execute_result"
    }
   ],
   "source": [
    "%%time\n",
    "\n",
    "def local(device):\n",
    "    import cloudpickle\n",
    "    from itertools import product\n",
    "    from collections import defaultdict\n",
    "    from concurrent.futures import ProcessPoolExecutor\n",
    "    from sklearn.metrics import roc_auc_score \n",
    "    from eval import eval1\n",
    "\n",
    "    numthreads = 1\n",
    "    maxworkers = 35\n",
    "\n",
    "    b = 16\n",
    "\n",
    "    ins  = []\n",
    "    outs = defaultdict(lambda:([],[]))\n",
    "\n",
    "    for d,w,n,e in product([4],[64],[(.2,.4)],[8]):\n",
    "        model = cloudpickle.dumps(ResNetDropout(13,1,depth=d,width=w,drop=n))\n",
    "        key   = (d,w,n,e)\n",
    "        for _ in range(10):\n",
    "            for pid in sorted(set(df.participant_id)):\n",
    "                ins.append( (model,pid,key,b,e,numthreads,device,None) )\n",
    "    \n",
    "    with ProcessPoolExecutor(max_workers=maxworkers) as executor:\n",
    "        mapper = map if maxworkers == 1 else executor.map\n",
    "        for k,s,l in mapper(eval,ins):\n",
    "            outs[k][0].extend(s)\n",
    "            outs[k][1].extend(l)\n",
    "\n",
    "    return [ (*k,roc_auc_score(labels,scores)) for k,(scores,labels) in outs.items() ]\n",
    "\n",
    "local('cpu')"
   ]
  },
  {
   "cell_type": "code",
   "execution_count": 10,
   "id": "fc694cdc-cd1e-4cf9-9cb2-6dd78ac9faa7",
   "metadata": {},
   "outputs": [
    {
     "name": "stdout",
     "output_type": "stream",
     "text": [
      "CPU times: user 888 ms, sys: 555 ms, total: 1.44 s\n",
      "Wall time: 5min 30s\n"
     ]
    },
    {
     "data": {
      "text/plain": [
       "[(4, 64, (0.2, 0.4), 8, 0.631893940437437),\n",
       " (4, 64, (0.2, 0.5), 8, 0.6249316074300922)]"
      ]
     },
     "execution_count": 10,
     "metadata": {},
     "output_type": "execute_result"
    }
   ],
   "source": [
    "%%time\n",
    "def local(device):\n",
    "    import cloudpickle\n",
    "    from itertools import product\n",
    "    from collections import defaultdict\n",
    "    from concurrent.futures import ProcessPoolExecutor\n",
    "    from sklearn.metrics import roc_auc_score \n",
    "    from eval import eval1\n",
    "\n",
    "    numthreads = 1\n",
    "    maxworkers = 35\n",
    "\n",
    "    b = 16\n",
    "\n",
    "    ins  = []\n",
    "    outs = defaultdict(lambda:([],[]))\n",
    "\n",
    "    for d,w,n,e in product([4],[64],[(.2,.4),(.2,.5)],[8]):\n",
    "        model = cloudpickle.dumps(ResNetDropout(13,1,depth=d,width=w,drop=n))\n",
    "        key   = (d,w,n,e)\n",
    "        for _ in range(10):\n",
    "            for pid in sorted(set(df.participant_id)):\n",
    "                ins.append( (model,pid,key,b,e,numthreads,device,None) )\n",
    "    \n",
    "    with ProcessPoolExecutor(max_workers=maxworkers) as executor:\n",
    "        mapper = map if maxworkers == 1 else executor.map\n",
    "        for k,s,l in mapper(eval,ins):\n",
    "            outs[k][0].extend(s)\n",
    "            outs[k][1].extend(l)\n",
    "\n",
    "    return [ (*k,roc_auc_score(labels,scores)) for k,(scores,labels) in outs.items() ]\n",
    "\n",
    "local('cpu')"
   ]
  },
  {
   "cell_type": "markdown",
   "id": "be621531-0237-4d70-b8a0-ab1230ab1829",
   "metadata": {},
   "source": [
    "### Hyperparameter Sweep with SSL"
   ]
  },
  {
   "cell_type": "code",
   "execution_count": 110,
   "id": "4cfb3aa6-d569-46f9-bea1-8b51d6c61249",
   "metadata": {},
   "outputs": [
    {
     "name": "stdout",
     "output_type": "stream",
     "text": [
      "CPU times: user 27min 47s, sys: 1.47 s, total: 27min 48s\n",
      "Wall time: 9min 18s\n"
     ]
    },
    {
     "data": {
      "text/plain": [
       "[(4, 64, (0.2, 0.4), 8, 0.634373423847108),\n",
       " (4, 64, (0.2, 0.5), 8, 0.6338118022328549)]"
      ]
     },
     "execution_count": 110,
     "metadata": {},
     "output_type": "execute_result"
    }
   ],
   "source": [
    "%%time\n",
    "def local(device):\n",
    "    import cloudpickle\n",
    "    from itertools import product\n",
    "    from collections import defaultdict\n",
    "    from concurrent.futures import ProcessPoolExecutor\n",
    "    from sklearn.metrics import roc_auc_score \n",
    "    from eval import eval2\n",
    "\n",
    "    numthreads = 1\n",
    "    maxworkers = 35\n",
    "\n",
    "    b = 16\n",
    "\n",
    "    ins  = []\n",
    "    outs = defaultdict(lambda:([],[]))\n",
    "\n",
    "    for d,w,n,e in product([4],[64],[(.2,.4),(.2,.5)],[8]):\n",
    "        model = cloudpickle.dumps(ResNetDropout(13,14,depth=d,width=w,drop=n))\n",
    "        key   = (d,w,n,e)\n",
    "        for _ in range(1):\n",
    "            for pid in sorted(set(df.participant_id)):\n",
    "                ins.append( (model,pid,key,b,e,numthreads,device,None) )\n",
    "    \n",
    "    with ProcessPoolExecutor(max_workers=maxworkers) as executor:\n",
    "        mapper = map if maxworkers == 1 else executor.map\n",
    "        for k,s,l in mapper(eval2,ins):\n",
    "            outs[k][0].extend(s)\n",
    "            outs[k][1].extend(l)\n",
    "\n",
    "    return [ (*k,roc_auc_score(labels,scores)) for k,(scores,labels) in outs.items() ]\n",
    "\n",
    "local('cpu')"
   ]
  },
  {
   "cell_type": "code",
   "execution_count": 6,
   "id": "bbdc1c20-5ece-4bfa-95eb-2bacb5ab848b",
   "metadata": {},
   "outputs": [
    {
     "name": "stdout",
     "output_type": "stream",
     "text": [
      "CPU times: user 681 ms, sys: 457 ms, total: 1.14 s\n",
      "Wall time: 4min 14s\n"
     ]
    },
    {
     "data": {
      "text/plain": [
       "[(4, 64, (0.2, 0.4), 8, 0.63009583009583),\n",
       " (4, 64, (0.2, 0.4), 10, 0.644580760370234),\n",
       " (4, 64, (0.2, 0.5), 8, 0.6392262708052181),\n",
       " (4, 64, (0.2, 0.5), 10, 0.6370411265148106),\n",
       " (6, 64, (0.2, 0.4), 8, 0.6453114137324664),\n",
       " (6, 64, (0.2, 0.4), 10, 0.6502249212775528),\n",
       " (6, 64, (0.2, 0.5), 8, 0.630478877847299),\n",
       " (6, 64, (0.2, 0.5), 10, 0.6384179173652859),\n",
       " (8, 64, (0.2, 0.4), 8, 0.6441309178151282),\n",
       " (8, 64, (0.2, 0.4), 10, 0.6417249417249418),\n",
       " (8, 64, (0.2, 0.5), 8, 0.6324200166305429),\n",
       " (8, 64, (0.2, 0.5), 10, 0.6512902302375986)]"
      ]
     },
     "execution_count": 6,
     "metadata": {},
     "output_type": "execute_result"
    }
   ],
   "source": [
    "%%time\n",
    "def local(device):\n",
    "    import cloudpickle\n",
    "    from itertools import product\n",
    "    from collections import defaultdict\n",
    "    from concurrent.futures import ProcessPoolExecutor\n",
    "    from sklearn.metrics import roc_auc_score \n",
    "    from eval import eval2\n",
    "\n",
    "    numthreads = 1\n",
    "    maxworkers = 35\n",
    "\n",
    "    b = 16\n",
    "\n",
    "    ins  = []\n",
    "    outs = defaultdict(lambda:([],[]))\n",
    "\n",
    "    for d,w,n,e in product([4,6,8],[64],[(.2,.4),(.2,.5)],[8,10]):\n",
    "        model = cloudpickle.dumps(ResNetDropout(13,14,depth=d,width=w,drop=n))\n",
    "        key   = (d,w,n,e)\n",
    "        for _ in range(1):\n",
    "            for pid in sorted(set(df.participant_id)):\n",
    "                ins.append( (model,pid,key,b,e,numthreads,device,None) )\n",
    "    \n",
    "    with ProcessPoolExecutor(max_workers=maxworkers) as executor:\n",
    "        mapper = map if maxworkers == 1 else executor.map\n",
    "        for k,s,l in mapper(eval2,ins):\n",
    "            outs[k][0].extend(s)\n",
    "            outs[k][1].extend(l)\n",
    "\n",
    "    return [ (*k,roc_auc_score(labels,scores)) for k,(scores,labels) in outs.items() ]\n",
    "\n",
    "local('cpu')"
   ]
  },
  {
   "cell_type": "code",
   "execution_count": 7,
   "id": "197ee9a9-7f25-4f67-be3d-c67bb01f6e33",
   "metadata": {},
   "outputs": [
    {
     "name": "stdout",
     "output_type": "stream",
     "text": [
      "CPU times: user 1.97 s, sys: 987 ms, total: 2.96 s\n",
      "Wall time: 23min 2s\n"
     ]
    },
    {
     "data": {
      "text/plain": [
       "[(8, 64, (0.2, 0.4), 10, 0.6483886435202225),\n",
       " (8, 64, (0.2, 0.4), 12, 0.648474972396025),\n",
       " (10, 64, (0.2, 0.4), 10, 0.6441787306260991),\n",
       " (10, 64, (0.2, 0.4), 12, 0.6458486552433921)]"
      ]
     },
     "execution_count": 7,
     "metadata": {},
     "output_type": "execute_result"
    }
   ],
   "source": [
    "%%time\n",
    "def local(device):\n",
    "    import cloudpickle\n",
    "    from itertools import product\n",
    "    from collections import defaultdict\n",
    "    from concurrent.futures import ProcessPoolExecutor\n",
    "    from sklearn.metrics import roc_auc_score \n",
    "    from eval import eval2\n",
    "\n",
    "    numthreads = 1\n",
    "    maxworkers = 35\n",
    "\n",
    "    b = 16\n",
    "\n",
    "    ins  = []\n",
    "    outs = defaultdict(lambda:([],[]))\n",
    "\n",
    "    for d,w,n,e in product([8,10],[64],[(.2,.4)],[10,12]):\n",
    "        model = cloudpickle.dumps(ResNetDropout(13,14,depth=d,width=w,drop=n))\n",
    "        key   = (d,w,n,e)\n",
    "        for _ in range(10):\n",
    "            for pid in sorted(set(df.participant_id)):\n",
    "                ins.append( (model,pid,key,b,e,numthreads,device,None) )\n",
    "    \n",
    "    with ProcessPoolExecutor(max_workers=maxworkers) as executor:\n",
    "        mapper = map if maxworkers == 1 else executor.map\n",
    "        for k,s,l in mapper(eval2,ins):\n",
    "            outs[k][0].extend(s)\n",
    "            outs[k][1].extend(l)\n",
    "\n",
    "    return [ (*k,roc_auc_score(labels,scores)) for k,(scores,labels) in outs.items() ]\n",
    "\n",
    "local('cpu')"
   ]
  },
  {
   "cell_type": "code",
   "execution_count": 8,
   "id": "73cf5db7-2cb4-4cd7-9760-2bbfb36e1bc5",
   "metadata": {},
   "outputs": [
    {
     "name": "stdout",
     "output_type": "stream",
     "text": [
      "CPU times: user 1.86 s, sys: 930 ms, total: 2.79 s\n",
      "Wall time: 24min 7s\n"
     ]
    },
    {
     "data": {
      "text/plain": [
       "[(9, 64, (0.2, 0.4), 11, 0.6470239234449762),\n",
       " (9, 64, (0.2, 0.4), 12, 0.647976315107894),\n",
       " (9, 64, (0.2, 0.5), 11, 0.639924515056094),\n",
       " (9, 64, (0.2, 0.5), 12, 0.6415169577011683)]"
      ]
     },
     "execution_count": 8,
     "metadata": {},
     "output_type": "execute_result"
    }
   ],
   "source": [
    "%%time\n",
    "def local(device):\n",
    "    import cloudpickle\n",
    "    from itertools import product\n",
    "    from collections import defaultdict\n",
    "    from concurrent.futures import ProcessPoolExecutor\n",
    "    from sklearn.metrics import roc_auc_score \n",
    "    from eval import eval2\n",
    "\n",
    "    numthreads = 1\n",
    "    maxworkers = 35\n",
    "\n",
    "    b = 16\n",
    "\n",
    "    ins  = []\n",
    "    outs = defaultdict(lambda:([],[]))\n",
    "\n",
    "    for d,w,n,e in product([9],[64],[(.2,.4),(.2,.5)],[11,12]):\n",
    "        model = cloudpickle.dumps(ResNetDropout(13,14,depth=d,width=w,drop=n))\n",
    "        key   = (d,w,n,e)\n",
    "        for _ in range(10):\n",
    "            for pid in sorted(set(df.participant_id)):\n",
    "                ins.append( (model,pid,key,b,e,numthreads,device,None) )\n",
    "    \n",
    "    with ProcessPoolExecutor(max_workers=maxworkers) as executor:\n",
    "        mapper = map if maxworkers == 1 else executor.map\n",
    "        for k,s,l in mapper(eval2,ins):\n",
    "            outs[k][0].extend(s)\n",
    "            outs[k][1].extend(l)\n",
    "\n",
    "    return [ (*k,roc_auc_score(labels,scores)) for k,(scores,labels) in outs.items() ]\n",
    "\n",
    "local('cpu')"
   ]
  },
  {
   "cell_type": "code",
   "execution_count": 9,
   "id": "3c044d75-adca-43a9-9268-960e71a59419",
   "metadata": {},
   "outputs": [
    {
     "name": "stdout",
     "output_type": "stream",
     "text": [
      "CPU times: user 306 ms, sys: 360 ms, total: 666 ms\n",
      "Wall time: 2min 14s\n"
     ]
    },
    {
     "data": {
      "text/plain": [
       "[(7, 64, (0.2, 0.4), 10, 0.646798784061942)]"
      ]
     },
     "execution_count": 9,
     "metadata": {},
     "output_type": "execute_result"
    }
   ],
   "source": [
    "%%time\n",
    "def local(device):\n",
    "    import cloudpickle\n",
    "    from itertools import product\n",
    "    from collections import defaultdict\n",
    "    from concurrent.futures import ProcessPoolExecutor\n",
    "    from sklearn.metrics import roc_auc_score \n",
    "    from eval import eval2\n",
    "\n",
    "    numthreads = 1\n",
    "    maxworkers = 35\n",
    "\n",
    "    b = 16\n",
    "\n",
    "    ins  = []\n",
    "    outs = defaultdict(lambda:([],[]))\n",
    "\n",
    "    for d,w,n,e in product([7],[64],[(.2,.4)],[10]):\n",
    "        model = cloudpickle.dumps(ResNetDropout(13,14,depth=d,width=w,drop=n))\n",
    "        key   = (d,w,n,e)\n",
    "        for _ in range(5):\n",
    "            for pid in sorted(set(df.participant_id)):\n",
    "                ins.append( (model,pid,key,b,e,numthreads,device,None) )\n",
    "    \n",
    "    with ProcessPoolExecutor(max_workers=maxworkers) as executor:\n",
    "        mapper = map if maxworkers == 1 else executor.map\n",
    "        for k,s,l in mapper(eval2,ins):\n",
    "            outs[k][0].extend(s)\n",
    "            outs[k][1].extend(l)\n",
    "\n",
    "    return [ (*k,roc_auc_score(labels,scores)) for k,(scores,labels) in outs.items() ]\n",
    "\n",
    "local('cpu')"
   ]
  },
  {
   "cell_type": "code",
   "execution_count": 10,
   "id": "030daa67-b48b-41a7-8ab4-f68fc6f462f0",
   "metadata": {},
   "outputs": [
    {
     "name": "stdout",
     "output_type": "stream",
     "text": [
      "CPU times: user 845 ms, sys: 654 ms, total: 1.5 s\n",
      "Wall time: 7min 9s\n"
     ]
    },
    {
     "data": {
      "text/plain": [
       "[(7, 32, (0.2, 0.4), 10, 0.6310795676058834),\n",
       " (7, 64, (0.2, 0.4), 10, 0.6448105890211153),\n",
       " (7, 128, (0.2, 0.4), 10, 0.6492755626439837)]"
      ]
     },
     "execution_count": 10,
     "metadata": {},
     "output_type": "execute_result"
    }
   ],
   "source": [
    "%%time\n",
    "def local(device):\n",
    "    import cloudpickle\n",
    "    from itertools import product\n",
    "    from collections import defaultdict\n",
    "    from concurrent.futures import ProcessPoolExecutor\n",
    "    from sklearn.metrics import roc_auc_score \n",
    "    from eval import eval2\n",
    "\n",
    "    numthreads = 1\n",
    "    maxworkers = 35\n",
    "\n",
    "    b = 16\n",
    "\n",
    "    ins  = []\n",
    "    outs = defaultdict(lambda:([],[]))\n",
    "\n",
    "    for d,w,n,e in product([7],[32,64,128],[(.2,.4)],[10]):\n",
    "        model = cloudpickle.dumps(ResNetDropout(13,14,depth=d,width=w,drop=n))\n",
    "        key   = (d,w,n,e)\n",
    "        for _ in range(5):\n",
    "            for pid in sorted(set(df.participant_id)):\n",
    "                ins.append( (model,pid,key,b,e,numthreads,device,None) )\n",
    "    \n",
    "    with ProcessPoolExecutor(max_workers=maxworkers) as executor:\n",
    "        mapper = map if maxworkers == 1 else executor.map\n",
    "        for k,s,l in mapper(eval2,ins):\n",
    "            outs[k][0].extend(s)\n",
    "            outs[k][1].extend(l)\n",
    "\n",
    "    return [ (*k,roc_auc_score(labels,scores)) for k,(scores,labels) in outs.items() ]\n",
    "\n",
    "local('cpu')"
   ]
  },
  {
   "cell_type": "code",
   "execution_count": 11,
   "id": "23f1be76-2872-43ac-8c91-8ec4b768b94a",
   "metadata": {},
   "outputs": [
    {
     "name": "stdout",
     "output_type": "stream",
     "text": [
      "CPU times: user 2.68 s, sys: 1.62 s, total: 4.3 s\n",
      "Wall time: 43min 17s\n"
     ]
    },
    {
     "data": {
      "text/plain": [
       "[(7, 32, (0.2, 0.4), 10, 0.6310053026895133),\n",
       " (7, 64, (0.2, 0.4), 10, 0.6438671464987253),\n",
       " (7, 128, (0.2, 0.4), 10, 0.646259300154037),\n",
       " (14, 32, (0.2, 0.4), 10, 0.6334692403113457),\n",
       " (14, 64, (0.2, 0.4), 10, 0.6435479763900818),\n",
       " (14, 128, (0.2, 0.4), 10, 0.6488931964721438),\n",
       " (28, 32, (0.2, 0.4), 10, 0.6330876647718754),\n",
       " (28, 64, (0.2, 0.4), 10, 0.6399682383892911),\n",
       " (28, 128, (0.2, 0.4), 10, 0.6489096906991644)]"
      ]
     },
     "execution_count": 11,
     "metadata": {},
     "output_type": "execute_result"
    }
   ],
   "source": [
    "%%time\n",
    "def local(device):\n",
    "    import cloudpickle\n",
    "    from itertools import product\n",
    "    from collections import defaultdict\n",
    "    from concurrent.futures import ProcessPoolExecutor\n",
    "    from sklearn.metrics import roc_auc_score \n",
    "    from eval import eval2\n",
    "\n",
    "    numthreads = 1\n",
    "    maxworkers = 35\n",
    "\n",
    "    b = 16\n",
    "\n",
    "    ins  = []\n",
    "    outs = defaultdict(lambda:([],[]))\n",
    "\n",
    "    for d,w,n,e in product([7,14,28],[32,64,128],[(.2,.4)],[10]):\n",
    "        model = cloudpickle.dumps(ResNetDropout(13,14,depth=d,width=w,drop=n))\n",
    "        key   = (d,w,n,e)\n",
    "        for _ in range(5):\n",
    "            for pid in sorted(set(df.participant_id)):\n",
    "                ins.append( (model,pid,key,b,e,numthreads,device,None) )\n",
    "    \n",
    "    with ProcessPoolExecutor(max_workers=maxworkers) as executor:\n",
    "        mapper = map if maxworkers == 1 else executor.map\n",
    "        for k,s,l in mapper(eval2,ins):\n",
    "            outs[k][0].extend(s)\n",
    "            outs[k][1].extend(l)\n",
    "\n",
    "    return [ (*k,roc_auc_score(labels,scores)) for k,(scores,labels) in outs.items() ]\n",
    "\n",
    "local('cpu')"
   ]
  },
  {
   "cell_type": "code",
   "execution_count": 12,
   "id": "878f78fb-a31d-4ad0-a36b-d5ca13bf70c4",
   "metadata": {},
   "outputs": [
    {
     "name": "stdout",
     "output_type": "stream",
     "text": [
      "CPU times: user 2.89 s, sys: 1.82 s, total: 4.71 s\n",
      "Wall time: 1h 55s\n"
     ]
    },
    {
     "data": {
      "text/plain": [
       "[(7, 32, 'b', 10, 0.6349946155209312),\n",
       " (7, 64, 'b', 10, 0.6371760247549721),\n",
       " (7, 128, 'b', 10, 0.6285214356793304),\n",
       " (14, 32, 'b', 10, 0.6442886626044521),\n",
       " (14, 64, 'b', 10, 0.6395947054894424),\n",
       " (14, 128, 'b', 10, 0.6299246172930384),\n",
       " (28, 32, 'b', 10, 0.6355259204732889),\n",
       " (28, 64, 'b', 10, 0.6364841941684047),\n",
       " (28, 128, 'b', 10, 0.6246784170994697)]"
      ]
     },
     "execution_count": 12,
     "metadata": {},
     "output_type": "execute_result"
    }
   ],
   "source": [
    "%%time\n",
    "def local(device):\n",
    "    import cloudpickle\n",
    "    from itertools import product\n",
    "    from collections import defaultdict\n",
    "    from concurrent.futures import ProcessPoolExecutor\n",
    "    from sklearn.metrics import roc_auc_score \n",
    "    from eval import eval2\n",
    "\n",
    "    numthreads = 1\n",
    "    maxworkers = 35\n",
    "\n",
    "    b = 16\n",
    "\n",
    "    ins  = []\n",
    "    outs = defaultdict(lambda:([],[]))\n",
    "\n",
    "    for d,w,n,e in product([7,14,28],[32,64,128],['b'],[10]):\n",
    "        model = cloudpickle.dumps(ResNet(13,14,depth=d,width=w,norm=n))\n",
    "        key   = (d,w,n,e)\n",
    "        for _ in range(5):\n",
    "            for pid in sorted(set(df.participant_id)):\n",
    "                ins.append( (model,pid,key,b,e,numthreads,device,None) )\n",
    "\n",
    "    with ProcessPoolExecutor(max_workers=maxworkers) as executor:\n",
    "        mapper = map if maxworkers == 1 else executor.map\n",
    "        for k,s,l in mapper(eval2,ins):\n",
    "            outs[k][0].extend(s)\n",
    "            outs[k][1].extend(l)\n",
    "\n",
    "    return [ (*k,roc_auc_score(labels,scores)) for k,(scores,labels) in outs.items() ]\n",
    "\n",
    "local('cpu')"
   ]
  },
  {
   "cell_type": "code",
   "execution_count": 5,
   "id": "80f896a2-5668-48f5-b2cc-45f8c5779a07",
   "metadata": {},
   "outputs": [
    {
     "name": "stdout",
     "output_type": "stream",
     "text": [
      "CPU times: user 811 ms, sys: 736 ms, total: 1.55 s\n",
      "Wall time: 7min 44s\n"
     ]
    },
    {
     "data": {
      "text/plain": [
       "[(7, 100, (0.2, 0.5), 10, 0.6455267383688436),\n",
       " (7, 200, (0.2, 0.5), 10, 0.6491927098242888)]"
      ]
     },
     "execution_count": 5,
     "metadata": {},
     "output_type": "execute_result"
    }
   ],
   "source": [
    "%%time\n",
    "def local(device):\n",
    "    import cloudpickle\n",
    "    from itertools import product\n",
    "    from collections import defaultdict\n",
    "    from concurrent.futures import ProcessPoolExecutor\n",
    "    from sklearn.metrics import roc_auc_score \n",
    "    from eval import eval2\n",
    "\n",
    "    numthreads = 1\n",
    "    maxworkers = 35\n",
    "\n",
    "    b = 16\n",
    "\n",
    "    ins  = []\n",
    "    outs = defaultdict(lambda:([],[]))\n",
    "\n",
    "    for d,w,n,e in product([7],[100,200],[(.2,.5)],[10]):\n",
    "        model = cloudpickle.dumps(ResNetDropout(13,14,depth=d,width=w,drop=n))\n",
    "        key   = (d,w,n,e)\n",
    "        for _ in range(5):\n",
    "            for pid in sorted(set(df.participant_id)):\n",
    "                ins.append( (model,pid,key,b,e,numthreads,device,None) )\n",
    "    \n",
    "    with ProcessPoolExecutor(max_workers=maxworkers) as executor:\n",
    "        mapper = map if maxworkers == 1 else executor.map\n",
    "        for k,s,l in mapper(eval2,ins):\n",
    "            outs[k][0].extend(s)\n",
    "            outs[k][1].extend(l)\n",
    "\n",
    "    return [ (*k,roc_auc_score(labels,scores)) for k,(scores,labels) in outs.items() ]\n",
    "\n",
    "local('cpu')"
   ]
  },
  {
   "cell_type": "code",
   "execution_count": 4,
   "id": "6595eb0c-0c4d-4bd6-a864-2ace5303239f",
   "metadata": {},
   "outputs": [
    {
     "name": "stdout",
     "output_type": "stream",
     "text": [
      "CPU times: user 10.3 s, sys: 15.9 s, total: 26.1 s\n",
      "Wall time: 2h 33min 27s\n"
     ]
    },
    {
     "data": {
      "text/plain": [
       "[(10, 100, (0.2, 0.5), 10, 0.6425075041917147),\n",
       " (10, 200, (0.2, 0.5), 10, 0.6560575525838684),\n",
       " (50, 100, (0.2, 0.5), 10, 0.6260814623972519),\n",
       " (50, 200, (0.2, 0.5), 10, 0.6212787796998323),\n",
       " (100, 100, (0.2, 0.5), 10, 0.5124058670374461),\n",
       " (100, 200, (0.2, 0.5), 10, 0.5574550361918783)]"
      ]
     },
     "execution_count": 4,
     "metadata": {},
     "output_type": "execute_result"
    }
   ],
   "source": [
    "%%time\n",
    "def local(device):\n",
    "    import cloudpickle\n",
    "    from itertools import product\n",
    "    from collections import defaultdict\n",
    "    from concurrent.futures import ProcessPoolExecutor\n",
    "    from sklearn.metrics import roc_auc_score \n",
    "    from eval import eval2\n",
    "\n",
    "    numthreads = 1\n",
    "    maxworkers = 35\n",
    "\n",
    "    b = 16\n",
    "\n",
    "    ins  = []\n",
    "    outs = defaultdict(lambda:([],[]))\n",
    "\n",
    "    for d,w,n,e in product([10,50,100],[100,200],[(.2,.5)],[10]):\n",
    "        model = cloudpickle.dumps(ResNetDropout(13,14,depth=d,width=w,drop=n))\n",
    "        key   = (d,w,n,e)\n",
    "        for _ in range(5):\n",
    "            for pid in sorted(set(df.participant_id)):\n",
    "                ins.append( (model,pid,key,b,e,numthreads,device,None) )\n",
    "    \n",
    "    with ProcessPoolExecutor(max_workers=maxworkers) as executor:\n",
    "        mapper = map if maxworkers == 1 else executor.map\n",
    "        for k,s,l in mapper(eval2,ins):\n",
    "            outs[k][0].extend(s)\n",
    "            outs[k][1].extend(l)\n",
    "\n",
    "    return [ (*k,roc_auc_score(labels,scores)) for k,(scores,labels) in outs.items() ]\n",
    "\n",
    "local('cpu')"
   ]
  },
  {
   "cell_type": "code",
   "execution_count": 31,
   "id": "4f612035-19be-4f04-9ca8-b9ddb9ef3832",
   "metadata": {},
   "outputs": [
    {
     "name": "stdout",
     "output_type": "stream",
     "text": [
      "CPU times: user 2.6 s, sys: 2.34 s, total: 4.94 s\n",
      "Wall time: 25min 53s\n"
     ]
    },
    {
     "data": {
      "text/plain": [
       "[(7, 200, (0.2, 0.5), 9, 0.6504516419253262),\n",
       " (7, 250, (0.2, 0.5), 9, 0.649953407216565),\n",
       " (8, 200, (0.2, 0.5), 9, 0.6506052699736911),\n",
       " (8, 250, (0.2, 0.5), 9, 0.6521711855396066)]"
      ]
     },
     "execution_count": 31,
     "metadata": {},
     "output_type": "execute_result"
    }
   ],
   "source": [
    "%%time\n",
    "def local(device):\n",
    "    import cloudpickle\n",
    "    from itertools import product\n",
    "    from collections import defaultdict\n",
    "    from concurrent.futures import ProcessPoolExecutor\n",
    "    from sklearn.metrics import roc_auc_score \n",
    "    from eval import eval2\n",
    "\n",
    "    numthreads = 1\n",
    "    maxworkers = 35\n",
    "\n",
    "    b = 16\n",
    "\n",
    "    ins  = []\n",
    "    outs = defaultdict(lambda:([],[]))\n",
    "\n",
    "    for d,w,n,e in product([7,8],[200,250],[(.2,.5)],[9]):\n",
    "        model = cloudpickle.dumps(ResNetDropout(13,14,depth=d,width=w,drop=n))\n",
    "        key   = (d,w,n,e)\n",
    "        for _ in range(5):\n",
    "            for pid in sorted(set(df.participant_id)):\n",
    "                ins.append( (model,pid,key,b,e,numthreads,device,None) )\n",
    "    \n",
    "    with ProcessPoolExecutor(max_workers=maxworkers) as executor:\n",
    "        mapper = map if maxworkers == 1 else executor.map\n",
    "        for k,s,l in mapper(eval2,ins):\n",
    "            outs[k][0].extend(s)\n",
    "            outs[k][1].extend(l)\n",
    "\n",
    "    return [ (*k,roc_auc_score(labels,scores)) for k,(scores,labels) in outs.items() ]\n",
    "\n",
    "local('cpu')"
   ]
  },
  {
   "cell_type": "code",
   "execution_count": 4,
   "id": "bd9b6b8f-5541-40cd-9b3d-58d4719f4e17",
   "metadata": {},
   "outputs": [
    {
     "name": "stdout",
     "output_type": "stream",
     "text": [
      "CPU times: user 94.4 ms, sys: 390 ms, total: 485 ms\n",
      "Wall time: 43.9 s\n"
     ]
    },
    {
     "data": {
      "text/plain": [
       "[(8, 200, (0.2, 0.5), 12, 0.6247044095145362)]"
      ]
     },
     "execution_count": 4,
     "metadata": {},
     "output_type": "execute_result"
    }
   ],
   "source": [
    "%%time\n",
    "def local(device):\n",
    "    import cloudpickle\n",
    "    from itertools import product\n",
    "    from collections import defaultdict\n",
    "    from concurrent.futures import ProcessPoolExecutor\n",
    "    from sklearn.metrics import roc_auc_score \n",
    "    from eval import eval2\n",
    "\n",
    "    numthreads = 1\n",
    "    maxworkers = 35\n",
    "\n",
    "    b = 16\n",
    "\n",
    "    ins  = []\n",
    "    outs = defaultdict(lambda:([],[]))\n",
    "\n",
    "    for d,w,n,e in product([8],[200],[(.2,.5)],[12]):\n",
    "        model = cloudpickle.dumps(ResNetDropout(13,14,depth=d,width=w,drop=n))\n",
    "        key   = (d,w,n,e)\n",
    "        for _ in range(1):\n",
    "            for pid in sorted(set(df.participant_id))[:12]:\n",
    "                ins.append( (model,pid,key,b,e,numthreads,device,None) )\n",
    "    \n",
    "    with ProcessPoolExecutor(max_workers=maxworkers) as executor:\n",
    "        mapper = map if maxworkers == 1 else executor.map\n",
    "        for k,s,l in mapper(eval2,ins):\n",
    "            outs[k][0].extend(s)\n",
    "            outs[k][1].extend(l)\n",
    "\n",
    "    return [ (*k,roc_auc_score(labels,scores)) for k,(scores,labels) in outs.items() ]\n",
    "\n",
    "#with torch.device('cpu'):\n",
    "local('cpu')"
   ]
  },
  {
   "cell_type": "code",
   "execution_count": 9,
   "id": "f9e78d7d-a872-4876-8f46-6682c4f60323",
   "metadata": {},
   "outputs": [
    {
     "name": "stdout",
     "output_type": "stream",
     "text": [
      "[(8, 1024, (0.2, 0.5), 30, 0.6454537024157277)]\n",
      "CPU times: user 1min 6s, sys: 1.12 s, total: 1min 7s\n",
      "Wall time: 1min 8s\n"
     ]
    }
   ],
   "source": [
    "%%time\n",
    "def local(device):\n",
    "    import cloudpickle\n",
    "    from itertools import product\n",
    "    from collections import defaultdict\n",
    "    from concurrent.futures import ProcessPoolExecutor\n",
    "    from sklearn.metrics import roc_auc_score \n",
    "    from eval import eval2\n",
    "\n",
    "    numthreads = 1\n",
    "    maxworkers = 1\n",
    "\n",
    "    b = 256\n",
    "\n",
    "    ins  = []\n",
    "    outs = defaultdict(lambda:([],[]))\n",
    "\n",
    "    for d,w,n,e in product([8],[1024],[(.2,.5)],[30]):\n",
    "        model = cloudpickle.dumps(ResNetDropout(13,14,depth=d,width=w,drop=n))\n",
    "        key   = (d,w,n,e)\n",
    "        for _ in range(1):\n",
    "            for pid in sorted(set(df.participant_id))[:12]:\n",
    "                ins.append( (model,pid,key,b,e,numthreads,device,None) )\n",
    "    \n",
    "    with ProcessPoolExecutor(max_workers=maxworkers) as executor:\n",
    "        mapper = map if maxworkers == 1 else executor.map\n",
    "        for k,s,l in mapper(eval2,ins):\n",
    "            outs[k][0].extend(s)\n",
    "            outs[k][1].extend(l)\n",
    "    return [ (*k,roc_auc_score(labels,scores)) for k,(scores,labels) in outs.items() ]\n",
    "\n",
    "#with torch.device('cuda'):\n",
    "local('cuda')"
   ]
  },
  {
   "cell_type": "code",
   "execution_count": 10,
   "id": "506665e6-754c-4c4e-9cc7-71de3e5b4b35",
   "metadata": {},
   "outputs": [
    {
     "name": "stdout",
     "output_type": "stream",
     "text": [
      "[(8, 512, (0.2, 0.5), 30, 0.6447350118236195)]\n",
      "CPU times: user 1min 3s, sys: 219 ms, total: 1min 3s\n",
      "Wall time: 1min 3s\n"
     ]
    }
   ],
   "source": [
    "%%time\n",
    "def local(device):\n",
    "    import cloudpickle\n",
    "    from itertools import product\n",
    "    from collections import defaultdict\n",
    "    from concurrent.futures import ProcessPoolExecutor\n",
    "    from sklearn.metrics import roc_auc_score \n",
    "    from eval import eval2\n",
    "\n",
    "    numthreads = 1\n",
    "    maxworkers = 1\n",
    "\n",
    "    b = 256\n",
    "\n",
    "    ins  = []\n",
    "    outs = defaultdict(lambda:([],[]))\n",
    "\n",
    "    for d,w,n,e in product([8],[512],[(.2,.5)],[30]):\n",
    "        model = cloudpickle.dumps(ResNetDropout(13,14,depth=d,width=w,drop=n))\n",
    "        key   = (d,w,n,e)\n",
    "        for _ in range(1):\n",
    "            for pid in sorted(set(df.participant_id))[:12]:\n",
    "                ins.append( (model,pid,key,b,e,numthreads,device,None) )\n",
    "    \n",
    "    with ProcessPoolExecutor(max_workers=maxworkers) as executor:\n",
    "        mapper = map if maxworkers == 1 else executor.map\n",
    "        for k,s,l in mapper(eval2,ins):\n",
    "            outs[k][0].extend(s)\n",
    "            outs[k][1].extend(l)\n",
    "    return [ (*k,roc_auc_score(labels,scores)) for k,(scores,labels) in outs.items() ]\n",
    "\n",
    "local('cuda')"
   ]
  },
  {
   "cell_type": "code",
   "execution_count": 10,
   "id": "9accbdb2-c706-4371-a99c-e3f8f25844ff",
   "metadata": {},
   "outputs": [
    {
     "name": "stdout",
     "output_type": "stream",
     "text": [
      "CPU times: user 1.33 s, sys: 1.48 s, total: 2.81 s\n",
      "Wall time: 7min 43s\n"
     ]
    },
    {
     "data": {
      "text/plain": [
       "[(8, 256, (0.2, 0.5), 30, 0.6607046783625732)]"
      ]
     },
     "execution_count": 10,
     "metadata": {},
     "output_type": "execute_result"
    }
   ],
   "source": [
    "%%time\n",
    "def local(device):\n",
    "    import cloudpickle\n",
    "    from itertools import product\n",
    "    from collections import defaultdict\n",
    "    from concurrent.futures import ProcessPoolExecutor\n",
    "    from sklearn.metrics import roc_auc_score \n",
    "    from eval import eval2\n",
    "\n",
    "    numthreads = 1\n",
    "    maxworkers = 35\n",
    "\n",
    "    b = 256\n",
    "\n",
    "    ins  = []\n",
    "    outs = defaultdict(lambda:([],[]))\n",
    "\n",
    "    for d,w,n,e in product([8],[256],[(.2,.5)],[30]):\n",
    "        model = cloudpickle.dumps(ResNetDropout(13,14,depth=d,width=w,drop=n))\n",
    "        key   = (d,w,n,e)\n",
    "        for _ in range(10):\n",
    "            for pid in sorted(set(df.participant_id)):\n",
    "                ins.append( (model,pid,key,b,e,numthreads,device,None) )\n",
    "    \n",
    "    with ProcessPoolExecutor(max_workers=maxworkers) as executor:\n",
    "        mapper = map if maxworkers == 1 else executor.map\n",
    "        for k,s,l in mapper(eval2,ins):\n",
    "            outs[k][0].extend(s)\n",
    "            outs[k][1].extend(l)\n",
    "    return [ (*k,roc_auc_score(labels,scores)) for k,(scores,labels) in outs.items() ]\n",
    "\n",
    "local('cpu')"
   ]
  },
  {
   "cell_type": "code",
   "execution_count": 11,
   "id": "3a42e293-8f99-4667-81b9-d2cdfe0b639e",
   "metadata": {},
   "outputs": [
    {
     "name": "stdout",
     "output_type": "stream",
     "text": [
      "CPU times: user 1.36 s, sys: 1.4 s, total: 2.76 s\n",
      "Wall time: 9min 1s\n"
     ]
    },
    {
     "data": {
      "text/plain": [
       "[(8, 256, (0.2, 0.5), 35, 0.6530329680066522)]"
      ]
     },
     "execution_count": 11,
     "metadata": {},
     "output_type": "execute_result"
    }
   ],
   "source": [
    "%%time\n",
    "def local(device):\n",
    "    import cloudpickle\n",
    "    from itertools import product\n",
    "    from collections import defaultdict\n",
    "    from concurrent.futures import ProcessPoolExecutor\n",
    "    from sklearn.metrics import roc_auc_score \n",
    "    from eval import eval2\n",
    "\n",
    "    numthreads = 1\n",
    "    maxworkers = 35\n",
    "\n",
    "    b = 256\n",
    "\n",
    "    ins  = []\n",
    "    outs = defaultdict(lambda:([],[]))\n",
    "\n",
    "    for d,w,n,e in product([8],[256],[(.2,.5)],[35]):\n",
    "        model = cloudpickle.dumps(ResNetDropout(13,14,depth=d,width=w,drop=n))\n",
    "        key   = (d,w,n,e)\n",
    "        for _ in range(10):\n",
    "            for pid in sorted(set(df.participant_id)):\n",
    "                ins.append( (model,pid,key,b,e,numthreads,device,None) )\n",
    "\n",
    "    with ProcessPoolExecutor(max_workers=maxworkers) as executor:\n",
    "        mapper = map if maxworkers == 1 else executor.map\n",
    "        for k,s,l in mapper(eval2,ins):\n",
    "            outs[k][0].extend(s)\n",
    "            outs[k][1].extend(l)\n",
    "    return [ (*k,roc_auc_score(labels,scores)) for k,(scores,labels) in outs.items() ]\n",
    "\n",
    "local('cpu')"
   ]
  },
  {
   "cell_type": "code",
   "execution_count": 12,
   "id": "92f8f575-1c4b-4ed6-b420-f2d999f9a22d",
   "metadata": {},
   "outputs": [
    {
     "name": "stdout",
     "output_type": "stream",
     "text": [
      "CPU times: user 1.38 s, sys: 1.44 s, total: 2.82 s\n",
      "Wall time: 7min 42s\n"
     ]
    }
   ],
   "source": [
    "%%time\n",
    "def local(device):\n",
    "    import cloudpickle\n",
    "    from itertools import product\n",
    "    from collections import defaultdict\n",
    "    from concurrent.futures import ProcessPoolExecutor\n",
    "    from sklearn.metrics import roc_auc_score \n",
    "    from eval import eval2\n",
    "\n",
    "    numthreads = 1\n",
    "    maxworkers = 35\n",
    "\n",
    "    b = 256\n",
    "\n",
    "    ins  = []\n",
    "    outs = defaultdict(lambda:([],[]))\n",
    "\n",
    "    for d,w,n,e in product([8],[256],[(.2,.5)],[30]):\n",
    "        model = cloudpickle.dumps(ResNetDropout(13,14,depth=d,width=w,drop=n))\n",
    "        key   = (d,w,n,e)\n",
    "        for _ in range(10):\n",
    "            for pid in sorted(set(df.participant_id)):\n",
    "                ins.append( (model,pid,key,b,e,numthreads,device,None) )\n",
    "    \n",
    "    with ProcessPoolExecutor(max_workers=maxworkers) as executor:\n",
    "        mapper = map if maxworkers == 1 else executor.map\n",
    "        for k,s,l in mapper(eval2,ins):\n",
    "            outs[k][0].extend(s)\n",
    "            outs[k][1].extend(l)\n",
    "    return [ (*k,scores,labels) for k,(scores,labels) in outs.items() ]\n",
    "\n",
    "out = local('cpu')"
   ]
  },
  {
   "cell_type": "code",
   "execution_count": 21,
   "id": "ac5164f7-0f5d-4770-a128-37fb71b93e10",
   "metadata": {},
   "outputs": [
    {
     "data": {
      "image/png": "[encoded data removed]",
      "text/plain": [
       "<Figure size 640x480 with 1 Axes>"
      ]
     },
     "metadata": {},
     "output_type": "display_data"
    }
   ],
   "source": [
    "def local():\n",
    "    from sklearn.metrics import roc_auc_score \n",
    "    import matplotlib.pyplot as plt\n",
    "    \n",
    "    from sklearn.metrics import RocCurveDisplay\n",
    "    \n",
    "    display = RocCurveDisplay.from_predictions(\n",
    "        out[0][-1],\n",
    "        out[0][-2],\n",
    "        name=f\"pre- vs the rest\",\n",
    "        color=\"darkorange\",\n",
    "        plot_chance_level=True,\n",
    "    )\n",
    "    _ = display.ax_.set(\n",
    "        xlabel=\"False Positive Rate\",\n",
    "        ylabel=\"Macro Accuracy\",\n",
    "        title=\"One-vs-Rest ROC curves:\\nVirginica vs (Setosa & Versicolor)\",\n",
    "    )\n",
    "\n",
    "\n",
    "local()"
   ]
  },
  {
   "cell_type": "code",
   "execution_count": 60,
   "id": "eeb5fd11-6214-4cde-a8af-b4d44ce49157",
   "metadata": {},
   "outputs": [
    {
     "data": {
      "text/plain": [
       "0.6242117531591216"
      ]
     },
     "execution_count": 60,
     "metadata": {},
     "output_type": "execute_result"
    }
   ],
   "source": [
    "def local():\n",
    "    from sklearn.metrics import balanced_accuracy_score\n",
    "    return balanced_accuracy_score(out[0][-1], [ int(s>.1) for s in out[0][-2]])\n",
    "local()"
   ]
  },
  {
   "cell_type": "code",
   "execution_count": 151,
   "id": "73246364-0ec0-485a-af82-8f72f73cec62",
   "metadata": {},
   "outputs": [
    {
     "name": "stdout",
     "output_type": "stream",
     "text": [
      "0.5004166685797455\n"
     ]
    }
   ],
   "source": [
    "def local():\n",
    "    import torch\n",
    "    import pandas as pd\n",
    "    from xgboost import XGBClassifier\n",
    "    from sklearn.metrics import balanced_accuracy_score\n",
    "    \n",
    "    df = pd.read_csv('data/sims_features.csv')\n",
    "\n",
    "    preds,trues = [],[]\n",
    "    for pid in sorted(set(df.participant_id)):\n",
    "        X_all = df.iloc[:,7:].to_numpy()\n",
    "        y_all = ((df['experience_id'] != 1) & (df['phase_id'] == 1)).astype(int).to_numpy()\n",
    "    \n",
    "        X_trn = X_all[df.participant_id!=pid]\n",
    "        y_trn = y_all[df.participant_id!=pid]\n",
    "        X_tst = X_all[df.participant_id==pid]\n",
    "        y_tst = y_all[df.participant_id==pid]\n",
    "\n",
    "        model = XGBClassifier(n_estimators=2,max_depth=7).fit(X_trn,y_trn)\n",
    "        preds.extend(model.predict(X_tst))\n",
    "        trues.extend(y_tst)\n",
    "\n",
    "    print(balanced_accuracy_score(trues,preds))\n",
    "local()"
   ]
  },
  {
   "cell_type": "code",
   "execution_count": 6,
   "id": "14a3d67b-f91a-4a4a-92a8-7aaaec8f4f22",
   "metadata": {},
   "outputs": [
    {
     "name": "stdout",
     "output_type": "stream",
     "text": [
      "CPU times: user 2.35 s, sys: 2.34 s, total: 4.7 s\n",
      "Wall time: 4min 23s\n"
     ]
    },
    {
     "data": {
      "text/plain": [
       "[(8, 256, (0.2, 0.5), 15, 'sims_features1.csv', 'sans_ssl', 0.6353),\n",
       " (8, 256, (0.2, 0.5), 15, 'sims_features2.csv', 'sans_ssl', 0.5534),\n",
       " (8, 256, (0.2, 0.5), 15, 'sims_features3.csv', 'sans_ssl', 0.6492),\n",
       " (8, 256, (0.2, 0.5), 15, 'sims_features4.csv', 'sans_ssl', 0.5812),\n",
       " (8, 256, (0.2, 0.5), 15, 'sims_features5.csv', 'sans_ssl', 0.5773),\n",
       " (8, 256, (0.2, 0.5), 15, 'sims_features6.csv', 'sans_ssl', 0.5608)]"
      ]
     },
     "execution_count": 6,
     "metadata": {},
     "output_type": "execute_result"
    }
   ],
   "source": [
    "%%time\n",
    "def local(device):\n",
    "    import cloudpickle\n",
    "    from itertools import product\n",
    "    from collections import defaultdict\n",
    "    from concurrent.futures import ProcessPoolExecutor\n",
    "    from sklearn.metrics import roc_auc_score \n",
    "    from eval import eval1\n",
    "\n",
    "    numthreads = 1\n",
    "    maxworkers = 35\n",
    "\n",
    "    b = 256\n",
    "\n",
    "    ins  = []\n",
    "    outs = defaultdict(lambda:([],[]))\n",
    "\n",
    "    for d,w,n,e,f in product([8],[256],[(.2,.5)],[15],range(1,7)):\n",
    "        model = cloudpickle.dumps(ResNetDropout(13,1,depth=d,width=w,drop=n))\n",
    "        key   = (d,w,n,e,f\"sims_features{f}.csv\")\n",
    "        for _ in range(3):\n",
    "            for pid in sorted(set(df.participant_id)):\n",
    "                ins.append( (model,pid,key,b,e,numthreads,device,None,f\"sims_features{f}.csv\") )\n",
    "    \n",
    "    with ProcessPoolExecutor(max_workers=maxworkers) as executor:\n",
    "        mapper = map if maxworkers == 1 else executor.map\n",
    "        for k,s,l in mapper(eval1,ins):\n",
    "            outs[k][0].extend(s)\n",
    "            outs[k][1].extend(l)\n",
    "    return [ (*k,'sans_ssl', round(roc_auc_score(labels,scores),4)) for k,(scores,labels) in outs.items() ]\n",
    "\n",
    "local('cpu')"
   ]
  },
  {
   "cell_type": "code",
   "execution_count": 8,
   "id": "cbe781ee-1428-4ee9-b371-73d0801b3ebf",
   "metadata": {},
   "outputs": [
    {
     "name": "stdout",
     "output_type": "stream",
     "text": [
      "CPU times: user 886 ms, sys: 1.12 s, total: 2.01 s\n",
      "Wall time: 2min 20s\n"
     ]
    },
    {
     "data": {
      "text/plain": [
       "[(8, 256, (0.2, 0.5), 15, 'sims_features1.csv', 'with_ssl', 0.6484),\n",
       " (8, 256, (0.2, 0.5), 15, 'sims_features3.csv', 'with_ssl', 0.6559)]"
      ]
     },
     "execution_count": 8,
     "metadata": {},
     "output_type": "execute_result"
    }
   ],
   "source": [
    "%%time\n",
    "def local(device):\n",
    "    import cloudpickle\n",
    "    from itertools import product\n",
    "    from collections import defaultdict\n",
    "    from concurrent.futures import ProcessPoolExecutor\n",
    "    from sklearn.metrics import roc_auc_score \n",
    "    from eval import eval2\n",
    "\n",
    "    numthreads = 1\n",
    "    maxworkers = 35\n",
    "\n",
    "    b = 256\n",
    "\n",
    "    ins  = []\n",
    "    outs = defaultdict(lambda:([],[]))\n",
    "\n",
    "    for d,w,n,e,f in product([8],[256],[(.2,.5)],[15],[1,3]):\n",
    "        model = cloudpickle.dumps(ResNetDropout(13,14,depth=d,width=w,drop=n))\n",
    "        key   = (d,w,n,e,f\"sims_features{f}.csv\")\n",
    "        for _ in range(3):\n",
    "            for pid in sorted(set(df.participant_id)):\n",
    "                ins.append( (model,pid,key,b,e,numthreads,device,None,f\"sims_features{f}.csv\") )\n",
    "    \n",
    "    with ProcessPoolExecutor(max_workers=maxworkers) as executor:\n",
    "        mapper = map if maxworkers == 1 else executor.map\n",
    "        for k,s,l in mapper(eval2,ins):\n",
    "            outs[k][0].extend(s)\n",
    "            outs[k][1].extend(l)\n",
    "    return [ (*k,'with_ssl', round(roc_auc_score(labels,scores),4)) for k,(scores,labels) in outs.items() ]\n",
    "\n",
    "local('cpu')"
   ]
  },
  {
   "cell_type": "code",
   "execution_count": 9,
   "id": "8521d1b4-9868-4bee-8313-520d1e166f0b",
   "metadata": {},
   "outputs": [
    {
     "name": "stdout",
     "output_type": "stream",
     "text": [
      "CPU times: user 983 ms, sys: 994 ms, total: 1.98 s\n",
      "Wall time: 4min 37s\n"
     ]
    },
    {
     "data": {
      "text/plain": [
       "[(8, 256, (0.2, 0.5), 30, 'sims_features1.csv', 'with_ssl', 0.6555),\n",
       " (8, 256, (0.2, 0.5), 30, 'sims_features3.csv', 'with_ssl', 0.6765)]"
      ]
     },
     "execution_count": 9,
     "metadata": {},
     "output_type": "execute_result"
    }
   ],
   "source": [
    "%%time\n",
    "def local(device):\n",
    "    import cloudpickle\n",
    "    from itertools import product\n",
    "    from collections import defaultdict\n",
    "    from concurrent.futures import ProcessPoolExecutor\n",
    "    from sklearn.metrics import roc_auc_score \n",
    "    from eval import eval2\n",
    "\n",
    "    numthreads = 1\n",
    "    maxworkers = 35\n",
    "\n",
    "    b = 256\n",
    "\n",
    "    ins  = []\n",
    "    outs = defaultdict(lambda:([],[]))\n",
    "\n",
    "    for d,w,n,e,f in product([8],[256],[(.2,.5)],[30],[1,3]):\n",
    "        model = cloudpickle.dumps(ResNetDropout(13,14,depth=d,width=w,drop=n))\n",
    "        key   = (d,w,n,e,f\"sims_features{f}.csv\")\n",
    "        for _ in range(3):\n",
    "            for pid in sorted(set(df.participant_id)):\n",
    "                ins.append( (model,pid,key,b,e,numthreads,device,None,f\"sims_features{f}.csv\") )\n",
    "    \n",
    "    with ProcessPoolExecutor(max_workers=maxworkers) as executor:\n",
    "        mapper = map if maxworkers == 1 else executor.map\n",
    "        for k,s,l in mapper(eval2,ins):\n",
    "            outs[k][0].extend(s)\n",
    "            outs[k][1].extend(l)\n",
    "    return [ (*k,'with_ssl', round(roc_auc_score(labels,scores),4)) for k,(scores,labels) in outs.items() ]\n",
    "\n",
    "local('cpu')"
   ]
  },
  {
   "cell_type": "markdown",
   "id": "799d549e-b7e5-422e-bd27-6f0fb9a34ba8",
   "metadata": {},
   "source": [
    "### Subjective Anxiety"
   ]
  },
  {
   "cell_type": "code",
   "execution_count": 6,
   "id": "ea60c6e9-c3e2-45a1-a828-bc0bc964bf10",
   "metadata": {},
   "outputs": [
    {
     "name": "stdout",
     "output_type": "stream",
     "text": [
      "CPU times: user 408 ms, sys: 408 ms, total: 816 ms\n",
      "Wall time: 1min 41s\n"
     ]
    },
    {
     "data": {
      "text/plain": [
       "[(3, 20, (0.2, 0.5), 5, 'sims_features1.csv', 'with_ssl', 0.4769446616629838),\n",
       " (3, 20, (0.2, 0.5), 5, 'sims_features3.csv', 'with_ssl', 0.4706729421747903)]"
      ]
     },
     "execution_count": 6,
     "metadata": {},
     "output_type": "execute_result"
    }
   ],
   "source": [
    "%%time\n",
    "def local(device):\n",
    "    import cloudpickle\n",
    "    from itertools import product\n",
    "    from collections import defaultdict\n",
    "    from concurrent.futures import ProcessPoolExecutor\n",
    "    from sklearn.metrics import roc_auc_score \n",
    "    from eval import eval3\n",
    "\n",
    "    numthreads = 1\n",
    "    maxworkers = 35\n",
    "\n",
    "    b = 16\n",
    "\n",
    "    ins  = []\n",
    "    outs = defaultdict(lambda:([],[]))\n",
    "\n",
    "    for d,w,n,e,f in product([3],[20],[(.2,.5)],[5],[\"sims_features1.csv\",\"sims_features3.csv\"]):\n",
    "        model = cloudpickle.dumps(ResNetDropout(13,14,depth=d,width=w,drop=n))\n",
    "        key   = (d,w,n,e,f)\n",
    "        for _ in range(5):\n",
    "            for pid in sorted(set(df.participant_id)):\n",
    "                ins.append( (model,pid,key,b,e,numthreads,device,None,f) )\n",
    "    \n",
    "    with ProcessPoolExecutor(max_workers=maxworkers) as executor:\n",
    "        mapper = map if maxworkers == 1 else executor.map\n",
    "        for k,s,l in mapper(eval3,ins):\n",
    "            outs[k][0].extend(s)\n",
    "            outs[k][1].extend(l)\n",
    "\n",
    "    return [ (*k,'with_ssl',roc_auc_score(labels,scores)) for k,(scores,labels) in outs.items() ]\n",
    "\n",
    "local('cpu')"
   ]
  },
  {
   "cell_type": "code",
   "execution_count": 3,
   "id": "1f278b61-ba8c-45a2-a38e-03dc3fbf7479",
   "metadata": {},
   "outputs": [
    {
     "name": "stdout",
     "output_type": "stream",
     "text": [
      "CPU times: user 2.38 s, sys: 4.03 s, total: 6.41 s\n",
      "Wall time: 1min 53s\n"
     ]
    },
    {
     "data": {
      "text/plain": [
       "[(3, 20, (0.2, 0.5), 5, 'sims_features1.csv', 'sans_ssl', 0.49948306212614224),\n",
       " (3, 20, (0.2, 0.5), 5, 'sims_features2.csv', 'sans_ssl', 0.4784333481245595),\n",
       " (3, 20, (0.2, 0.5), 5, 'sims_features3.csv', 'sans_ssl', 0.4632652274691817),\n",
       " (3, 20, (0.2, 0.5), 5, 'sims_features4.csv', 'sans_ssl', 0.48212262796585836),\n",
       " (3, 20, (0.2, 0.5), 5, 'sims_features5.csv', 'sans_ssl', 0.4356120202006883),\n",
       " (3, 20, (0.2, 0.5), 5, 'sims_features6.csv', 'sans_ssl', 0.41876237819591505)]"
      ]
     },
     "execution_count": 3,
     "metadata": {},
     "output_type": "execute_result"
    }
   ],
   "source": [
    "%%time\n",
    "def local(device):\n",
    "    import cloudpickle\n",
    "    from itertools import product\n",
    "    from collections import defaultdict\n",
    "    from concurrent.futures import ProcessPoolExecutor\n",
    "    from sklearn.metrics import roc_auc_score\n",
    "    from eval import eval3b\n",
    "\n",
    "    numthreads = 1\n",
    "    maxworkers = 35\n",
    "\n",
    "    b = 16\n",
    "\n",
    "    ins  = []\n",
    "    outs = defaultdict(lambda:([],[]))\n",
    "\n",
    "    for d,w,n,e,f in product([3],[20],[(.2,.5)],[5],range(1,7)):\n",
    "        model = cloudpickle.dumps(ResNetDropout(13,1,depth=d,width=w,drop=n))\n",
    "        key   = (d,w,n,e,f\"sims_features{f}.csv\")\n",
    "        for _ in range(5):\n",
    "            for pid in sorted(set(df.participant_id)):\n",
    "                ins.append((model,pid,key,b,e,numthreads,device,None,f\"sims_features{f}.csv\"))\n",
    "    \n",
    "    with ProcessPoolExecutor(max_workers=maxworkers) as executor:\n",
    "        mapper = map if maxworkers == 1 else executor.map\n",
    "        for k,s,l in mapper(eval3b,ins):\n",
    "            outs[k][0].extend(s)\n",
    "            outs[k][1].extend(l)\n",
    "\n",
    "    return [ (*k,'sans_ssl',roc_auc_score(labels,scores)) for k,(scores,labels) in outs.items() ]\n",
    "\n",
    "local('cpu')"
   ]
  },
  {
   "cell_type": "code",
   "execution_count": 4,
   "id": "2ec47567-8985-4c9c-9143-2076369197cb",
   "metadata": {},
   "outputs": [
    {
     "name": "stdout",
     "output_type": "stream",
     "text": [
      "('sims_features1', 0.515134997965383)\n",
      "('sims_features2', 0.4911839941531153)\n",
      "('sims_features3', 0.5178745985197598)\n",
      "('sims_features4', 0.4982381039388165)\n",
      "('sims_features5', 0.48968208969000115)\n",
      "('sims_features6', 0.5014174764962618)\n"
     ]
    }
   ],
   "source": [
    "def local():\n",
    "    import torch\n",
    "    import pandas as pd\n",
    "    from xgboost import XGBClassifier\n",
    "    from sklearn.metrics import balanced_accuracy_score\n",
    "\n",
    "    def make_data(f):\n",
    "        df2 = pd.read_csv('data/self_reports.csv')\n",
    "        prt = pd.read_csv('data/participants.csv')\n",
    "        df3 = pd.read_csv(f'data/{f}')\n",
    "\n",
    "        df2 = df2[df2.phase != 'baseline']\n",
    "        df2['participant_number'] = df2['PID']\n",
    "        prt.participant_number = prt.participant_number.str[1:].astype(int)\n",
    "        prt = prt[['participant_id','participant_number']]\n",
    "        exp = pd.DataFrame([[1,'alone_video'],[2,'dyad_evaluative'],[3,'group_evaluative'],[4,'dyad_non_evaluative'],[5,'group_non_evaluative']],columns=['experience_id','experience'])\n",
    "        phs = pd.DataFrame([[1,'anticipatory anxiety'],[2,'experience'],[3,'post-event']],columns=['phase_id','phase'])\n",
    "        df2 = df2[['participant_number','experience','phase','calm_anx']]\n",
    "        df2 = pd.merge(pd.merge(pd.merge(df2,exp),phs),prt)\n",
    "        df2 = df2[['participant_id','experience_id','phase_id','calm_anx']]\n",
    "        \n",
    "        df4 = pd.merge(df2,df3)\n",
    "        \n",
    "        df4['calm_anx']  = df4['calm_anx'].map({1: 0, 2: 0, 3: 0, 4: 1, 5: 1})\n",
    "        #df4['calm_anx']  = df4['calm_anx'].map({1: 0, 2: 1, 3: 2, 4: 3, 5: 4})\n",
    "\n",
    "        return df4\n",
    "\n",
    "    for i in range(1,7):\n",
    "    \n",
    "        Z = make_data(f'sims_features{i}.csv')\n",
    "\n",
    "        pids = Z.participant_id\n",
    "        \n",
    "        X_all = Z.iloc[:,8:].to_numpy()\n",
    "        y_all = Z['calm_anx'].to_numpy()\n",
    "\n",
    "        preds,trues = [],[]\n",
    "        for pid in sorted(set(df.participant_id)):\n",
    "        \n",
    "            X_trn = X_all[pids!=pid]\n",
    "            y_trn = y_all[pids!=pid]\n",
    "            X_tst = X_all[pids==pid]\n",
    "            y_tst = y_all[pids==pid]\n",
    "    \n",
    "            model = XGBClassifier(n_estimators=20,max_depth=4).fit(X_trn,y_trn)\n",
    "            preds.extend(model.predict(X_tst))\n",
    "            trues.extend(y_tst)\n",
    "    \n",
    "        print((f\"sims_features{i}\",balanced_accuracy_score(trues,preds)))\n",
    "\n",
    "local()"
   ]
  },
  {
   "cell_type": "markdown",
   "id": "58f4a134-f4a2-4e24-aeb2-23227a983e65",
   "metadata": {},
   "source": [
    "### Pre vs Post"
   ]
  },
  {
   "cell_type": "code",
   "execution_count": 6,
   "id": "ba644aae-81e7-4b25-a1eb-8167b4cb7e79",
   "metadata": {},
   "outputs": [
    {
     "name": "stdout",
     "output_type": "stream",
     "text": [
      "0.5202978376172991\n"
     ]
    }
   ],
   "source": [
    "def local():\n",
    "    import torch\n",
    "    import pandas as pd\n",
    "    from xgboost import XGBClassifier\n",
    "    from sklearn.metrics import balanced_accuracy_score\n",
    "\n",
    "    def make_data():\n",
    "        df = pd.read_csv('data/sims_features.csv')\n",
    "        \n",
    "        X = df.groupby(['participant_id','phase_id','experience_id']).head(n=-1)\n",
    "        X = X.reset_index(drop=True)\n",
    "        Y = df.groupby(['participant_id','phase_id','experience_id']).tail(n=-1)\n",
    "        Y = Y.reset_index(drop=True)\n",
    "    \n",
    "        X = X[(Y['phase_id'] != 2) & (Y['experience_id'] != 1)]\n",
    "        Y = Y[(Y['phase_id'] != 2) & (Y['experience_id'] != 1)]\n",
    "\n",
    "        return X,Y\n",
    "\n",
    "    X,Y = make_data()\n",
    "    \n",
    "    pids = Y.participant_id\n",
    "    \n",
    "    X_all = X.iloc[:,7:].to_numpy()\n",
    "    y_all = (Y['phase_id'] == 1).astype(int)\n",
    "\n",
    "    preds,trues = [],[]\n",
    "    for pid in sorted(set(df.participant_id)):\n",
    "    \n",
    "        X_trn = X_all[pids!=pid]\n",
    "        y_trn = y_all[pids!=pid]\n",
    "        X_tst = X_all[pids==pid]\n",
    "        y_tst = y_all[pids==pid]\n",
    "\n",
    "        model = XGBClassifier(n_estimators=2,max_depth=3).fit(X_trn,y_trn)\n",
    "        preds.extend(model.predict(X_tst))\n",
    "        trues.extend(y_tst)\n",
    "\n",
    "    print(balanced_accuracy_score(trues,preds))\n",
    "    return preds,trues\n",
    "\n",
    "p,t = local()"
   ]
  },
  {
   "cell_type": "code",
   "execution_count": 4,
   "id": "d8fb5390-4537-4fec-8c7b-57dd9461c7c2",
   "metadata": {},
   "outputs": [
    {
     "name": "stdout",
     "output_type": "stream",
     "text": [
      "CPU times: user 228 ms, sys: 295 ms, total: 522 ms\n",
      "Wall time: 11.9 s\n"
     ]
    },
    {
     "data": {
      "text/plain": [
       "[(2, 20, (0.2, 0.5), 5, 0.48756000951992384)]"
      ]
     },
     "execution_count": 4,
     "metadata": {},
     "output_type": "execute_result"
    }
   ],
   "source": [
    "%%time\n",
    "def local(device):\n",
    "    import cloudpickle\n",
    "    from itertools import product\n",
    "    from collections import defaultdict\n",
    "    from concurrent.futures import ProcessPoolExecutor\n",
    "    from sklearn.metrics import roc_auc_score \n",
    "    from eval import eval4\n",
    "\n",
    "    numthreads = 1\n",
    "    maxworkers = 35\n",
    "\n",
    "    b = 16\n",
    "\n",
    "    ins  = []\n",
    "    outs = defaultdict(lambda:([],[]))\n",
    "\n",
    "    for d,w,n,e in product([2],[20],[(.2,.5)],[5]):\n",
    "        model = cloudpickle.dumps(ResNetDropout(13,14,depth=d,width=w,drop=n))\n",
    "        key   = (d,w,n,e)\n",
    "        for _ in range(5):\n",
    "            for pid in sorted(set(df.participant_id)):\n",
    "                ins.append( (model,pid,key,b,e,numthreads,device,None) )\n",
    "    \n",
    "    with ProcessPoolExecutor(max_workers=maxworkers) as executor:\n",
    "        mapper = map if maxworkers == 1 else executor.map\n",
    "        for k,s,l in mapper(eval4,ins):\n",
    "            outs[k][0].extend(s)\n",
    "            outs[k][1].extend(l)\n",
    "\n",
    "    return [ (*k,roc_auc_score(labels,scores)) for k,(scores,labels) in outs.items() ]\n",
    "\n",
    "local('cpu')"
   ]
  },
  {
   "cell_type": "markdown",
   "id": "67bd1a3b-c7aa-44a8-8531-6cfd5b65cd02",
   "metadata": {},
   "source": [
    "### Social/Not Social"
   ]
  },
  {
   "cell_type": "code",
   "execution_count": 59,
   "id": "d30487b3-9f94-4766-980f-136fa60b6806",
   "metadata": {},
   "outputs": [
    {
     "name": "stdout",
     "output_type": "stream",
     "text": [
      "('sims_features1', 0.7347963700291148)\n",
      "('sims_features2', 0.8302146395156852)\n",
      "('sims_features3', 0.6867343464454219)\n",
      "('sims_features4', 0.78673637864612)\n",
      "('sims_features5', 0.8222925457102672)\n",
      "('sims_features6', 0.8556258790436005)\n"
     ]
    }
   ],
   "source": [
    "def local():\n",
    "    import torch\n",
    "    import pandas as pd\n",
    "    from xgboost import XGBClassifier\n",
    "    from sklearn.ensemble import RandomForestClassifier\n",
    "    from sklearn.metrics import balanced_accuracy_score\n",
    "\n",
    "    def make_data(f):\n",
    "        df = pd.read_csv(f'data/{f}')\n",
    "        return df[df.phase_id==2]\n",
    "\n",
    "    for i in range(1,7):\n",
    "        Z = make_data(f\"sims_features{i}.csv\")\n",
    "        \n",
    "        pids  = Z.participant_id\n",
    "        X_all = Z.iloc[:,7:].to_numpy()\n",
    "        y_all = (Z['experience_id'] == 1).astype(int)\n",
    "    \n",
    "        preds,trues = [],[]\n",
    "        for pid in sorted(set(df.participant_id)):\n",
    "        \n",
    "            X_trn = X_all[pids!=pid]\n",
    "            y_trn = y_all[pids!=pid]\n",
    "            X_tst = X_all[pids==pid]\n",
    "            y_tst = y_all[pids==pid]\n",
    "    \n",
    "            model = XGBClassifier(n_estimators=80,max_depth=4).fit(X_trn,y_trn)\n",
    "            #model = RandomForestClassifier(n_estimators=100,ccp_alpha=.03,class_weight='balanced').fit(X_trn,y_trn)\n",
    "            trues.extend(y_tst)\n",
    "            preds.extend(model.predict(X_tst))\n",
    "    \n",
    "        print((f\"sims_features{i}\",balanced_accuracy_score(trues,preds)))\n",
    "\n",
    "local()"
   ]
  },
  {
   "cell_type": "code",
   "execution_count": 39,
   "id": "b7382f7f-203b-4932-9b88-fd06a6bf3c12",
   "metadata": {},
   "outputs": [
    {
     "name": "stdout",
     "output_type": "stream",
     "text": [
      "(4, 128, (0.2, 0.2), 30, 'sims_features1.csv', 'with_ssl', 0.9007)\n",
      "(4, 128, (0.2, 0.2), 30, 'sims_features3.csv', 'with_ssl', 0.8418)\n",
      "CPU times: user 357 ms, sys: 400 ms, total: 756 ms\n",
      "Wall time: 15.2 s\n"
     ]
    }
   ],
   "source": [
    "%%time\n",
    "def local(device):\n",
    "    import cloudpickle\n",
    "    from itertools import product\n",
    "    from collections import defaultdict\n",
    "    from concurrent.futures import ProcessPoolExecutor\n",
    "    from sklearn.metrics import roc_auc_score \n",
    "    from eval import eval5\n",
    "\n",
    "    numthreads = 1\n",
    "    maxworkers = 35\n",
    "\n",
    "    b = 256\n",
    "\n",
    "    ins  = []\n",
    "    outs = defaultdict(lambda:([],[]))\n",
    "\n",
    "    for d,w,n,e,f in product([4],[128],[(.2,.2)],[30],[1,3]):\n",
    "        model = cloudpickle.dumps(ResNetDropout(13,14,depth=d,width=w,drop=n))\n",
    "        key   = (d,w,n,e,f\"sims_features{f}.csv\")\n",
    "        for _ in range(1):\n",
    "            for pid in sorted(set(df.participant_id)):\n",
    "                ins.append( (model,pid,key,b,e,numthreads,device,None,f\"sims_features{f}.csv\"))\n",
    "\n",
    "    with ProcessPoolExecutor(max_workers=maxworkers) as executor:\n",
    "        mapper = map if maxworkers == 1 else executor.map\n",
    "        for k,s,l in mapper(eval5,ins):\n",
    "            outs[k][0].extend(s)\n",
    "            outs[k][1].extend(l)\n",
    "\n",
    "    for k,(scores,labels) in outs.items():\n",
    "        print((*k,'with_ssl',round(roc_auc_score(labels,scores),4)))\n",
    "        yield (*k,scores,labels)\n",
    "\n",
    "out = list(local('cpu'))"
   ]
  },
  {
   "cell_type": "code",
   "execution_count": 40,
   "id": "fc8b05bb-c199-425c-a74a-f8943da3f0e7",
   "metadata": {},
   "outputs": [
    {
     "data": {
      "image/png": "[encoded data removed]",
      "text/plain": [
       "<Figure size 640x480 with 1 Axes>"
      ]
     },
     "metadata": {},
     "output_type": "display_data"
    }
   ],
   "source": [
    "def local():\n",
    "    from sklearn.metrics import roc_auc_score \n",
    "    import matplotlib.pyplot as plt\n",
    "    \n",
    "    from sklearn.metrics import RocCurveDisplay\n",
    "    \n",
    "    display = RocCurveDisplay.from_predictions(\n",
    "        out[0][-1],\n",
    "        out[0][-2],\n",
    "        name=f\"pre- vs the rest\",\n",
    "        color=\"darkorange\",\n",
    "        plot_chance_level=True,\n",
    "    )\n",
    "    _ = display.ax_.set(\n",
    "        xlabel=\"False Positive Rate\",\n",
    "        ylabel=\"Macro Accuracy\",\n",
    "        title=\"One-vs-Rest ROC curves:\\nVirginica vs (Setosa & Versicolor)\",\n",
    "    )\n",
    "\n",
    "\n",
    "local()"
   ]
  },
  {
   "cell_type": "code",
   "execution_count": 41,
   "id": "0f66a773-f8c1-441e-89a3-cc337cfecd44",
   "metadata": {},
   "outputs": [
    {
     "data": {
      "image/png": "[encoded data removed]",
      "text/plain": [
       "<Figure size 640x480 with 1 Axes>"
      ]
     },
     "metadata": {},
     "output_type": "display_data"
    }
   ],
   "source": [
    "def local():\n",
    "    from matplotlib import pyplot as plt\n",
    "    from sklearn.metrics import balanced_accuracy_score\n",
    "    import numpy as np\n",
    "\n",
    "    X =  np.linspace(0,100,500)\n",
    "    Y = np.percentile(out[0][-2],q=X)\n",
    "\n",
    "    plt.plot(X,[ balanced_accuracy_score(out[0][-1], [int(s>y) for s in out[0][-2]])  for y in Y])\n",
    "    \n",
    "    return \n",
    "local()"
   ]
  }
 ],
 "metadata": {
  "kernelspec": {
   "display_name": "Python 3 (ipykernel)",
   "language": "python",
   "name": "python3"
  },
  "language_info": {
   "codemirror_mode": {
    "name": "ipython",
    "version": 3
   },
   "file_extension": ".py",
   "mimetype": "text/x-python",
   "name": "python",
   "nbconvert_exporter": "python",
   "pygments_lexer": "ipython3",
   "version": "3.10.13"
  }
 },
 "nbformat": 4,
 "nbformat_minor": 5
}
